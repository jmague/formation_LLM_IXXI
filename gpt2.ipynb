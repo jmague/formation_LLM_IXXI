{
 "cells": [
  {
   "cell_type": "markdown",
   "metadata": {},
   "source": [
    "[comment]: <> \"LTeX: language=fr\"\n",
    "Ce notebook propose une vision de \"haut niveau\" du fonctionnement du modèle [GPT2](https://huggingface.co/openai-community/gpt2), c'est-à-dire en regardant les entrées et les sorties, mais sans rentrer dans le fonctionnement interne. \n",
    "\n",
    "Il utilise la bibliothèque [transformers](https://huggingface.co/docs/transformers/en/index) de [HuggingFace](https://huggingface.co/)"
   ]
  },
  {
   "cell_type": "markdown",
   "metadata": {},
   "source": [
    "# Initialisation"
   ]
  },
  {
   "cell_type": "code",
   "execution_count": 1,
   "metadata": {},
   "outputs": [],
   "source": [
    "from transformers import GPT2TokenizerFast, GPT2LMHeadModel\n",
    "import torch"
   ]
  },
  {
   "cell_type": "code",
   "execution_count": 2,
   "metadata": {},
   "outputs": [
    {
     "data": {
      "text/plain": [
       "<torch.autograd.grad_mode.set_grad_enabled at 0x14ccbefd0>"
      ]
     },
     "execution_count": 2,
     "metadata": {},
     "output_type": "execute_result"
    }
   ],
   "source": [
    "torch.set_grad_enabled(False) #no training today!"
   ]
  },
  {
   "cell_type": "code",
   "execution_count": 3,
   "metadata": {},
   "outputs": [],
   "source": [
    "model_name = 'openai-community/gpt2'"
   ]
  },
  {
   "cell_type": "code",
   "execution_count": 4,
   "metadata": {},
   "outputs": [
    {
     "data": {
      "text/plain": [
       "device(type='mps', index=0)"
      ]
     },
     "execution_count": 4,
     "metadata": {},
     "output_type": "execute_result"
    }
   ],
   "source": [
    "tokenizer = GPT2TokenizerFast.from_pretrained(model_name)\n",
    "gpt2 = GPT2LMHeadModel.from_pretrained(model_name,device_map=\"auto\",pad_token_id=tokenizer.eos_token_id)\n",
    "device = gpt2.device\n",
    "device"
   ]
  },
  {
   "cell_type": "markdown",
   "metadata": {},
   "source": [
    "# Génération de texte"
   ]
  },
  {
   "cell_type": "code",
   "execution_count": 39,
   "metadata": {},
   "outputs": [],
   "source": [
    "prompt = 'Artificial intelligence'"
   ]
  },
  {
   "cell_type": "markdown",
   "metadata": {},
   "source": [
    "<img src=\"img/tokenization/tokenization.001.png\" width=\"600\">"
   ]
  },
  {
   "cell_type": "markdown",
   "metadata": {},
   "source": [
    "[comment]: <> \"LTeX: language=fr\"\n",
    "## Tokenisation\n",
    "Les modèles de langue ne traitent pas directement des chaînes de caractères. Celles-ci sont **tokenisées** et ce sont les tokens qui consituent les unités traitées par ces modèles. La liste de ces tokens est finie (il y en a 50257 pour GPT2) et ils sont définis avant même l'entraîment du modèle. "
   ]
  },
  {
   "cell_type": "code",
   "execution_count": 40,
   "metadata": {},
   "outputs": [
    {
     "data": {
      "text/plain": [
       "{'input_ids': tensor([[8001, 9542, 4430]], device='mps:0'), 'attention_mask': tensor([[1, 1, 1]], device='mps:0')}"
      ]
     },
     "execution_count": 40,
     "metadata": {},
     "output_type": "execute_result"
    }
   ],
   "source": [
    "input = tokenizer(prompt, return_tensors=\"pt\").to(device)\n",
    "input"
   ]
  },
  {
   "cell_type": "code",
   "execution_count": 41,
   "metadata": {},
   "outputs": [
    {
     "name": "stdout",
     "output_type": "stream",
     "text": [
      "|token|  -> id\n",
      "\n",
      "|Art|    -> 8001\n",
      "|ificial| -> 9542\n",
      "| intelligence| -> 4430\n"
     ]
    }
   ],
   "source": [
    "print(f'{\"|token|\":8} -> id\\n')\n",
    "for token in input['input_ids'][0]:\n",
    "    print(f'{\"|\"+tokenizer.decode(token)+\"|\":8} -> {token}')"
   ]
  },
  {
   "cell_type": "markdown",
   "metadata": {},
   "source": [
    "<img src=\"img/tokenization/tokenization.002.png\" width=\"600\">"
   ]
  },
  {
   "cell_type": "markdown",
   "metadata": {},
   "source": [
    "## Génération"
   ]
  },
  {
   "cell_type": "code",
   "execution_count": 42,
   "metadata": {},
   "outputs": [],
   "source": [
    "output = gpt2.generate(input_ids=input['input_ids'], attention_mask=input['attention_mask'], max_new_tokens=1)"
   ]
  },
  {
   "cell_type": "code",
   "execution_count": 43,
   "metadata": {},
   "outputs": [
    {
     "data": {
      "text/plain": [
       "tensor([[8001, 9542, 4430,  318]], device='mps:0')"
      ]
     },
     "execution_count": 43,
     "metadata": {},
     "output_type": "execute_result"
    }
   ],
   "source": [
    "output"
   ]
  },
  {
   "cell_type": "markdown",
   "metadata": {},
   "source": [
    "[comment]: <> \"LTeX: language=fr\"\n",
    "Le modèle renvoie également une liste (d'identifiants) de tokens : ceux donnés en entrée plus celui généré. Le tokenizer permet de les décoder."
   ]
  },
  {
   "cell_type": "code",
   "execution_count": 44,
   "metadata": {},
   "outputs": [
    {
     "name": "stdout",
     "output_type": "stream",
     "text": [
      "|token|  -> id\n",
      "\n",
      "|Art|    -> 8001\n",
      "|ificial| -> 9542\n",
      "| intelligence| -> 4430\n",
      "| is|    -> 318\n"
     ]
    }
   ],
   "source": [
    "print(f'{\"|token|\":8} -> id\\n')\n",
    "for token in output[0]:\n",
    "    print(f'{\"|\"+tokenizer.decode(token)+\"|\":8} -> {token}')"
   ]
  },
  {
   "cell_type": "markdown",
   "metadata": {},
   "source": [
    "<img src=\"img/tokenization/tokenization.003.png\" width=\"600\">"
   ]
  },
  {
   "cell_type": "markdown",
   "metadata": {},
   "source": [
    "Si l'on souhaite générer plus de 1 token, il suffit de répéter l'opération:"
   ]
  },
  {
   "cell_type": "code",
   "execution_count": 45,
   "metadata": {},
   "outputs": [
    {
     "data": {
      "text/plain": [
       "'Artificial intelligence is a'"
      ]
     },
     "execution_count": 45,
     "metadata": {},
     "output_type": "execute_result"
    }
   ],
   "source": [
    "output2 = gpt2.generate(input_ids=output, attention_mask=torch.ones(output.shape).to(device), max_new_tokens=1)\n",
    "tokenizer.decode(output2[0])"
   ]
  },
  {
   "cell_type": "markdown",
   "metadata": {},
   "source": [
    "<img src=\"img/tokenization/tokenization.004.png\" width=\"600\">"
   ]
  },
  {
   "cell_type": "code",
   "execution_count": 46,
   "metadata": {},
   "outputs": [
    {
     "data": {
      "text/plain": [
       "'Artificial intelligence is a new'"
      ]
     },
     "execution_count": 46,
     "metadata": {},
     "output_type": "execute_result"
    }
   ],
   "source": [
    "output3 = gpt2.generate(input_ids=output2, attention_mask=torch.ones(output2.shape).to(device), max_new_tokens=1)\n",
    "tokenizer.decode(output3[0])"
   ]
  },
  {
   "cell_type": "code",
   "execution_count": 47,
   "metadata": {},
   "outputs": [
    {
     "data": {
      "text/plain": [
       "'Artificial intelligence is a new field'"
      ]
     },
     "execution_count": 47,
     "metadata": {},
     "output_type": "execute_result"
    }
   ],
   "source": [
    "output4 = gpt2.generate(input_ids=output3, attention_mask=torch.ones(output3.shape).to(device), max_new_tokens=1)\n",
    "tokenizer.decode(output4[0])"
   ]
  },
  {
   "cell_type": "markdown",
   "metadata": {},
   "source": [
    "Ou alors, plus simplement : "
   ]
  },
  {
   "cell_type": "code",
   "execution_count": 48,
   "metadata": {},
   "outputs": [
    {
     "data": {
      "text/plain": [
       "'Artificial intelligence is a new field of research'"
      ]
     },
     "execution_count": 48,
     "metadata": {},
     "output_type": "execute_result"
    }
   ],
   "source": [
    "output10 = gpt2.generate(input_ids=input['input_ids'], attention_mask=input['attention_mask'], max_new_tokens=6)\n",
    "tokenizer.decode(output10[0])"
   ]
  },
  {
   "cell_type": "markdown",
   "metadata": {},
   "source": [
    "[comment]: <> \"LTeX: language=fr\"\n",
    "## Stratégies de génération de texte\n",
    "Ce que calcule le modèle est en fait un score associé à chacun des 50257 tokens à partir duquel il est possible de dériver une distribution de probabilité sur les tokens. Le choix du token qui sera généré est effectué à partir de ces scores/probabilités. "
   ]
  },
  {
   "cell_type": "code",
   "execution_count": 49,
   "metadata": {},
   "outputs": [],
   "source": [
    "output = gpt2.generate(input_ids=input['input_ids'], attention_mask=input['attention_mask'], max_new_tokens=1,return_dict_in_generate=True, output_scores=True)"
   ]
  },
  {
   "cell_type": "code",
   "execution_count": 50,
   "metadata": {},
   "outputs": [
    {
     "data": {
      "text/plain": [
       "(tensor([[ -99.0574,  -97.3374, -104.6698,  ..., -105.8733, -106.3210,\n",
       "           -99.8503]], device='mps:0'),)"
      ]
     },
     "execution_count": 50,
     "metadata": {},
     "output_type": "execute_result"
    }
   ],
   "source": [
    "output['scores']"
   ]
  },
  {
   "cell_type": "markdown",
   "metadata": {},
   "source": [
    "[comment]: <> \"LTeX: language=fr\"\n",
    "Ces scores sont transformés en probabilités via une fonction [softmax](https://stackoverflow.com/a/47763299/1731620) :\n",
    "\n",
    "$\\sigma(x_i)=\\frac{e^{x_i}}{\\sum{e^{x_j}}}$"
   ]
  },
  {
   "cell_type": "code",
   "execution_count": 51,
   "metadata": {},
   "outputs": [],
   "source": [
    "prob = torch.nn.functional.softmax(output['scores'][0],dim=1)\n",
    "#prob_of_each_token = list(zip([tokenizer.decode(i) for i in range(50257)], prob.cpu().detach().numpy()[0]))\n",
    "prob_of_each_token = list(zip([tokenizer.decode(i) for i in range(50257)], prob.cpu().numpy()[0]))"
   ]
  },
  {
   "cell_type": "markdown",
   "metadata": {},
   "source": [
    "[comment]: <> \"LTeX: language=fr\"\n",
    "On peut regarder quels sont les 10 tokens avec la plus haute probabilité"
   ]
  },
  {
   "cell_type": "code",
   "execution_count": 52,
   "metadata": {},
   "outputs": [
    {
     "name": "stdout",
     "output_type": "stream",
     "text": [
      "|token|   -> score\n",
      "\n",
      "| is|     -> 0.1954\n",
      "| (|      -> 0.0700\n",
      "|,|       -> 0.0597\n",
      "| has|    -> 0.0580\n",
      "| and|    -> 0.0462\n",
      "| will|   -> 0.0447\n",
      "| can|    -> 0.0371\n",
      "| could|  -> 0.0173\n",
      "|.|       -> 0.0166\n",
      "| may|    -> 0.0135\n"
     ]
    }
   ],
   "source": [
    "print(f'{\"|token|\":9} -> score\\n')\n",
    "for token, score in sorted(prob_of_each_token, key=lambda x: x[1], reverse=True)[:10]:\n",
    "    print(f'{\"|\"+token+\"|\":9} -> {score:.4f}')"
   ]
  },
  {
   "cell_type": "markdown",
   "metadata": {},
   "source": [
    "### Greedy search"
   ]
  },
  {
   "cell_type": "markdown",
   "metadata": {},
   "source": [
    "[comment]: <> \"LTeX: language=fr\"\n",
    "[Différentes stratégies sont possibles](https://huggingface.co/blog/how-to-generate) pour générer le prochain token. La stratégie par défaut employée ici, **greedy search**, consiste tout simplement à choisir à chaque étape le token ayant la plus grande probabilité :\n",
    "\n",
    "\n",
    "<img src=\"img/tokenization/tokenization.005.png\" width=\"600\">\n",
    "\n",
    "Elle atteint assez vite ses limites : "
   ]
  },
  {
   "cell_type": "code",
   "execution_count": 53,
   "metadata": {},
   "outputs": [
    {
     "data": {
      "text/plain": [
       "'Artificial intelligence is a new field of research that has been in the works for a while now. It is a field that has been in the works for a while now. It is a field that has been in the works for a while now. It is a'"
      ]
     },
     "execution_count": 53,
     "metadata": {},
     "output_type": "execute_result"
    }
   ],
   "source": [
    "output = gpt2.generate(input_ids=input['input_ids'], attention_mask=input['attention_mask'], max_new_tokens=50)\n",
    "tokenizer.decode(output[0])"
   ]
  },
  {
   "cell_type": "markdown",
   "metadata": {},
   "source": [
    "[comment]: <> \"LTeX: language=fr\"\n",
    "### Un peu de stochasticité\n",
    "On peut être moins détermistes et profiter de la distribution de probabilité pour introduire de l'aléatoire :\n"
   ]
  },
  {
   "cell_type": "code",
   "execution_count": 54,
   "metadata": {},
   "outputs": [
    {
     "data": {
      "text/plain": [
       "\"Artificial intelligence doesn't have its own system. But it's built into both software and information structures. What is clear is that artificial intelligence is a major breakthrough in its field. The number of applications that can be developed for the technology is growing.\\n\\nOne\""
      ]
     },
     "execution_count": 54,
     "metadata": {},
     "output_type": "execute_result"
    }
   ],
   "source": [
    "output = gpt2.generate(input_ids=input['input_ids'], attention_mask=input['attention_mask'], max_new_tokens=50, do_sample=True)\n",
    "tokenizer.decode(output[0])"
   ]
  },
  {
   "cell_type": "markdown",
   "metadata": {},
   "source": [
    "[comment]: <> \"LTeX: language=fr\"\n",
    "### Beam search\n",
    "Cette stratégie n'est pas la plus efficace. La séquence de n tokens la plus probable peut ne pas commencer par le token le plus probable :\n",
    "\n",
    "<img src=\"img/tokenization/tokenization.006.png\" width=\"600\">\n",
    "\n",
    "Le principe du **Beam search** est de générer en parallèle plusieurs séquences de tokens, de manière à produire, *in fine*, la plus probable"
   ]
  },
  {
   "cell_type": "code",
   "execution_count": 55,
   "metadata": {},
   "outputs": [
    {
     "data": {
      "text/plain": [
       "'Artificial intelligence (AI) is an emerging field of research and development aimed at improving the quality of life for people living in the developing world.\\n\\nAI is an emerging field of research and development aimed at improving the quality of life for people living in the developing'"
      ]
     },
     "execution_count": 55,
     "metadata": {},
     "output_type": "execute_result"
    }
   ],
   "source": [
    "#num_beams : nombre de sequences paralleles maintenues\n",
    "output = gpt2.generate(input_ids=input['input_ids'], attention_mask=input['attention_mask'], max_new_tokens=50, num_beams = 5)\n",
    "tokenizer.decode(output[0])"
   ]
  },
  {
   "cell_type": "code",
   "execution_count": 56,
   "metadata": {},
   "outputs": [
    {
     "data": {
      "text/plain": [
       "'Artificial intelligence has had a long time to come. The most recent version of artificial intelligence was found in 2009 that simulated the behavior of monkeys using computer chips rather than human brains. \"The computer technology you\\'ve seen to date is still a very, very small window'"
      ]
     },
     "execution_count": 56,
     "metadata": {},
     "output_type": "execute_result"
    }
   ],
   "source": [
    "output = gpt2.generate(input_ids=input['input_ids'], attention_mask=input['attention_mask'], max_new_tokens=50, do_sample=True)\n",
    "tokenizer.decode(output[0])"
   ]
  },
  {
   "cell_type": "code",
   "execution_count": 57,
   "metadata": {},
   "outputs": [
    {
     "data": {
      "text/plain": [
       "'Artificial intelligence has the potential to make millions of new jobs available. Companies will need to be able to track potential employees who have taken jobs they can\\'t easily find.\\n\\n\"Once you\\'ve found, if a person in your company has a bad relationship with'"
      ]
     },
     "execution_count": 57,
     "metadata": {},
     "output_type": "execute_result"
    }
   ],
   "source": [
    "output = gpt2.generate(input_ids=input['input_ids'], attention_mask=input['attention_mask'], max_new_tokens=50, do_sample=True, top_k=50)\n",
    "tokenizer.decode(output[0])"
   ]
  },
  {
   "cell_type": "markdown",
   "metadata": {},
   "source": [
    "# Embeddings"
   ]
  },
  {
   "cell_type": "code",
   "execution_count": 160,
   "metadata": {},
   "outputs": [
    {
     "name": "stdout",
     "output_type": "stream",
     "text": [
      "|token|  -> id\n",
      "\n",
      "| France| -> 4881\n",
      "| Paris| -> 6342\n",
      "| Germany| -> 4486\n",
      "| Berlin| -> 11307\n",
      "| Italy| -> 8031\n",
      "| Rome|  -> 10598\n",
      "| Spain| -> 8602\n",
      "| Madrid| -> 14708\n",
      "| Belgium| -> 15664\n",
      "| Brussels| -> 16445\n"
     ]
    }
   ],
   "source": [
    "prompt = \" France Paris Germany Berlin Italy Rome Spain Madrid Belgium Brussels\"\n",
    "input = tokenizer(prompt, return_tensors=\"pt\").to(device)\n",
    "print(f'{\"|token|\":8} -> id\\n')\n",
    "for token in input['input_ids'][0]:\n",
    "    print(f'{\"|\"+tokenizer.decode(token)+\"|\":8} -> {token}')"
   ]
  },
  {
   "cell_type": "code",
   "execution_count": 161,
   "metadata": {},
   "outputs": [],
   "source": [
    "all_embeddings = gpt2.transformer.wte.weight.cpu().numpy()"
   ]
  },
  {
   "cell_type": "code",
   "execution_count": 162,
   "metadata": {},
   "outputs": [
    {
     "data": {
      "text/plain": [
       "(10, 768)"
      ]
     },
     "execution_count": 162,
     "metadata": {},
     "output_type": "execute_result"
    }
   ],
   "source": [
    "embeddings=all_embeddings[input['input_ids'][0].cpu().numpy()]\n",
    "embeddings.shape"
   ]
  },
  {
   "cell_type": "code",
   "execution_count": 163,
   "metadata": {},
   "outputs": [],
   "source": [
    "pca = PCA(n_components=2)\n",
    "coordinates = pca.fit_transform(embeddings)"
   ]
  },
  {
   "cell_type": "code",
   "execution_count": 169,
   "metadata": {},
   "outputs": [
    {
     "data": {
      "image/png": "[encoded data removed]",
      "text/plain": [
       "<Figure size 640x480 with 1 Axes>"
      ]
     },
     "metadata": {},
     "output_type": "display_data"
    }
   ],
   "source": [
    "places = prompt.split(' ')[1:]\n",
    "countries = [2*i for i in range(len(places)//2)]\n",
    "cities = [2*i+1 for i in range(len(places)//2)]\n",
    "plt.scatter(coordinates[countries,0],coordinates[countries,1], color='blue')\n",
    "plt.scatter(coordinates[cities,0],coordinates[cities,1],color='red')\n",
    "for i in range(len(countries)):\n",
    "    plt.arrow(coordinates[countries[i],0],coordinates[countries[i],1],coordinates[cities[i],0]-coordinates[countries[i],0],coordinates[cities[i],1]-coordinates[countries[i],1],color='black',head_width=0.05,length_includes_head=True)\n",
    "\n",
    "for i, place in enumerate(places):\n",
    "    plt.text(coordinates[i,0],coordinates[i,1],place)"
   ]
  },
  {
   "cell_type": "code",
   "execution_count": 136,
   "metadata": {},
   "outputs": [],
   "source": [
    "all_embeddings=gpt2.transformer.wte.weight.cpu().numpy()"
   ]
  },
  {
   "cell_type": "code",
   "execution_count": 137,
   "metadata": {},
   "outputs": [
    {
     "data": {
      "text/plain": [
       "array([-6.94251284e-02,  4.89273183e-02,  1.62446752e-01, -7.34931082e-02,\n",
       "        4.06064503e-02,  6.07754476e-02, -2.26280183e-01,  3.28108959e-04,\n",
       "       -6.83388934e-02,  7.90781751e-02, -1.46123366e-02, -8.59463811e-02,\n",
       "        1.04389727e-01,  5.62340170e-02, -2.19830647e-02,  6.49288595e-02,\n",
       "        5.05471341e-02,  9.83921513e-02,  1.69831693e-01,  9.44533795e-02,\n",
       "        2.00185981e-02, -1.91425681e-02,  5.69839729e-03,  5.27473949e-02,\n",
       "        5.90772815e-02, -2.03476809e-02, -2.07051076e-02,  2.40105530e-03,\n",
       "       -7.94559270e-02,  2.54648458e-02, -1.39542907e-01, -1.52705744e-01,\n",
       "        8.69268104e-02,  9.93591025e-02, -6.68638200e-02, -1.78625435e-02,\n",
       "       -3.16881627e-01, -8.83476585e-02, -7.61101693e-02, -7.47257918e-02,\n",
       "       -7.66755193e-02, -1.52909413e-01,  1.04652256e-01,  1.17628269e-01,\n",
       "        9.67582837e-02, -8.17402750e-02, -1.18924364e-01,  8.29720423e-02,\n",
       "       -1.38600335e-01, -2.87557747e-02, -3.22189778e-02, -2.10460678e-01,\n",
       "        1.51620314e-01, -7.12822154e-02, -7.30890557e-02, -1.57335669e-01,\n",
       "       -4.50957268e-02,  2.34961212e-02, -3.02650668e-02, -4.20064814e-02,\n",
       "       -4.58185561e-03,  4.48622666e-02, -2.97840759e-02,  4.86656912e-02,\n",
       "        1.34650618e-01,  8.39807242e-02, -6.86989445e-03, -3.91430669e-02,\n",
       "        1.61964431e-01,  4.65047248e-02, -8.39129165e-02, -7.11046457e-02,\n",
       "       -5.55022433e-02, -6.16422966e-02, -6.89081699e-02, -4.84989505e-05,\n",
       "        1.96107686e-01,  2.29973927e-01, -1.10040288e-02,  1.22251257e-01,\n",
       "        9.07928050e-02, -4.81222458e-02,  2.86481623e-02, -7.40218982e-02,\n",
       "        2.07994521e-01,  1.32914865e-02, -5.69616072e-02,  1.21319786e-01,\n",
       "        2.81546503e-01,  1.42246738e-01, -1.46317080e-01, -9.51524004e-02,\n",
       "       -3.19569651e-03, -2.19060052e-02,  3.43959592e-02, -2.03485161e-01,\n",
       "        2.05204505e-02, -1.22790700e-02, -1.04152590e-01,  9.75848287e-02,\n",
       "        1.55727372e-01, -1.98575765e-01, -2.47485623e-01, -1.53074503e-01,\n",
       "        8.07647482e-02,  2.36765854e-02, -2.35448316e-01, -2.05092669e-01,\n",
       "       -1.51551319e-02, -8.45681038e-03,  1.29563019e-01,  1.62661284e-01,\n",
       "        1.54059008e-01,  1.60145327e-01, -6.01416081e-02, -1.71833951e-03,\n",
       "        3.92411388e-02,  7.40182474e-02,  1.76224828e-01, -3.44836041e-02,\n",
       "        8.14775750e-03,  6.64979443e-02,  7.10762143e-02,  3.96742597e-02,\n",
       "       -5.79105243e-02,  5.39921746e-02, -1.31379273e-02, -7.51844095e-03,\n",
       "       -5.26833422e-02,  1.81509957e-01,  5.41121364e-02, -3.62348147e-02,\n",
       "        4.97521721e-02, -1.06335633e-01,  1.89691901e-01,  4.88549955e-02,\n",
       "       -1.31705448e-01,  3.91404144e-03, -1.08783230e-01, -1.00988820e-01,\n",
       "       -7.87783116e-02, -3.84899266e-02,  2.67525703e-01, -1.48703143e-01,\n",
       "        5.82464896e-02, -9.13225934e-02,  8.09186175e-02, -8.51320550e-02,\n",
       "       -5.54181710e-02,  1.59092054e-01,  5.67240193e-02,  9.71622244e-02,\n",
       "       -1.65140140e-03, -4.80287261e-02,  4.46764454e-02,  1.94068879e-01,\n",
       "       -7.75801390e-02,  5.14138117e-02,  5.61190322e-02, -1.65709689e-01,\n",
       "       -1.84785306e-01, -2.33873888e-03,  9.57850963e-02, -1.83813974e-01,\n",
       "       -7.73474425e-02,  4.35840860e-02, -2.32186466e-01,  1.42067119e-01,\n",
       "       -2.41933390e-01,  2.97525138e-01,  1.22350752e-01,  1.14239037e-01,\n",
       "        3.66806276e-02, -1.10504530e-01, -5.48939332e-02, -1.41264752e-01,\n",
       "        7.95564204e-02,  7.43338168e-02, -5.67949079e-02,  1.80403665e-01,\n",
       "        1.90024488e-02,  1.25678838e-03, -1.89429402e-01,  1.56655997e-01,\n",
       "        2.51402836e-02, -7.90811628e-02, -1.32005408e-01,  1.71535581e-01,\n",
       "        8.06501955e-02, -1.49125904e-01, -1.68469355e-01, -5.68337999e-02,\n",
       "        1.59798890e-01, -2.51427386e-02,  1.38350651e-01,  3.46915727e-03,\n",
       "       -3.28223705e-02,  6.95145223e-03,  7.88289830e-02,  9.05645937e-02,\n",
       "       -2.51238078e-01, -3.66805308e-02,  5.78712448e-02,  8.86065736e-02,\n",
       "        9.23173800e-02, -5.26787937e-02,  3.40085365e-02, -2.52878759e-02,\n",
       "       -6.05597720e-02, -7.89686292e-02, -1.44963935e-01,  1.39714889e-02,\n",
       "       -2.37165410e-02, -9.92637053e-02, -1.08804420e-01,  1.32843643e-01,\n",
       "       -9.13089328e-03, -1.05707131e-01,  8.54137018e-02, -4.94812354e-02,\n",
       "        5.70799448e-02,  1.76724210e-01, -1.28591374e-01, -1.81876153e-01,\n",
       "       -7.32594505e-02, -1.55069485e-01,  7.21703693e-02, -8.58382732e-02,\n",
       "        4.64816391e-02,  6.37512580e-02, -1.04947731e-01,  9.38403755e-02,\n",
       "       -1.45155638e-01, -4.90530841e-02, -3.84229496e-02,  2.43107788e-02,\n",
       "        1.25331044e-01,  2.06401367e-02, -1.22013107e-01, -4.95059639e-02,\n",
       "       -1.56534269e-01, -4.72417548e-02,  9.31572467e-02, -6.26697391e-02,\n",
       "        1.05810173e-01,  1.21022969e-01,  1.09174326e-01, -1.18876901e-02,\n",
       "        1.33380562e-01,  6.70406148e-02,  1.56273723e-01,  1.92776665e-01,\n",
       "        1.81983203e-01, -5.78869805e-02, -2.18367487e-01, -1.09498769e-01,\n",
       "        1.73031241e-01,  7.04146177e-02,  1.08583927e-01,  8.23782012e-03,\n",
       "        1.05090421e-02, -8.17997605e-02, -9.26792920e-02, -1.85186610e-01,\n",
       "       -1.52947837e-02, -9.63733997e-04,  1.23657309e-01, -6.71159327e-02,\n",
       "        1.46119475e-01,  3.74733247e-02,  2.28780046e-01, -2.57843196e-01,\n",
       "        2.89133191e-02, -2.52128392e-01,  4.97403219e-02,  4.01558839e-02,\n",
       "       -1.01442061e-01, -3.76827605e-02,  1.64491385e-01,  3.56249884e-02,\n",
       "       -1.08277269e-01, -1.97418556e-01, -6.87633269e-03,  9.71569270e-02,\n",
       "       -4.70538110e-01,  4.08575051e-02,  2.72632670e-02, -1.07547343e-02,\n",
       "       -8.43409672e-02,  1.18987985e-01,  1.30407661e-01, -4.12464477e-02,\n",
       "       -2.01269463e-02,  9.53170657e-03,  3.03624272e-01, -1.15901239e-01,\n",
       "        1.27433211e-01,  2.23709583e-01,  1.31330535e-01,  5.62517121e-02,\n",
       "       -4.63701114e-02,  1.80842102e-01, -6.82237968e-02,  6.63092136e-02,\n",
       "        4.21368852e-02,  2.07568526e-01, -9.23325773e-03, -2.48646796e-01,\n",
       "        1.39368430e-01, -1.78169422e-02, -3.30265425e-02,  1.99662268e-01,\n",
       "       -7.72042200e-02,  8.17667916e-02,  1.77303642e-01,  1.06356315e-01,\n",
       "       -5.53207621e-02,  6.44880012e-02, -1.56984836e-01,  3.08656450e-02,\n",
       "        3.42165381e-01,  1.07463654e-02,  1.23857483e-01,  5.83790801e-02,\n",
       "        8.81169960e-02,  5.97390458e-02, -7.23068178e-01, -5.91651760e-02,\n",
       "        1.03495404e-01,  8.26745778e-02, -1.65345505e-01,  1.13638081e-01,\n",
       "        1.04732126e-01,  1.20967671e-01,  1.41934276e-01, -7.13237524e-02,\n",
       "        5.98745830e-02,  9.16595757e-02,  2.06879064e-01, -4.54798602e-02,\n",
       "       -2.15155110e-02, -1.09829329e-01, -9.94407013e-02,  1.21388711e-01,\n",
       "       -1.51580453e-01, -1.25153866e-02,  1.22301497e-01, -9.39999148e-02,\n",
       "       -1.93830028e-01, -9.33956578e-02, -4.90701571e-02, -2.07942367e-01,\n",
       "        2.74895847e-01, -7.14286119e-02, -2.21439376e-01,  3.75792310e-02,\n",
       "       -8.76279920e-03, -1.68203846e-01, -1.19020022e-01, -1.12300403e-01,\n",
       "        4.52190153e-02,  9.10693556e-02, -1.92457080e-01,  1.59801096e-02,\n",
       "        1.06921561e-01,  1.20337583e-01,  2.02025384e-01, -6.64719427e-03,\n",
       "        2.88964510e-02,  2.10031844e-03, -1.99708968e-01,  3.74739687e-03,\n",
       "       -6.91967225e-03,  1.20931014e-01,  1.71520337e-01,  8.74608010e-02,\n",
       "        1.81002185e-01,  3.92417759e-02,  1.10201940e-01, -3.09435204e-02,\n",
       "        7.88303763e-02, -9.80519280e-02, -2.52618521e-01, -1.91298842e-01,\n",
       "       -1.00341730e-01,  1.44239208e-02,  1.75693575e-02,  1.51330903e-01,\n",
       "       -1.68209583e-01,  1.84158713e-01,  1.69931784e-01, -1.09406523e-02,\n",
       "       -3.50713469e-02, -2.33023822e-01, -8.29240084e-02, -1.04705945e-01,\n",
       "        6.62085637e-02, -6.69084638e-02,  4.89505008e-02, -1.11663103e-01,\n",
       "       -1.38110995e-01,  1.86181098e-01, -1.10730305e-01, -3.07880819e-01,\n",
       "        9.26727876e-02, -2.46785004e-02,  7.62995407e-02,  1.07323982e-01,\n",
       "       -1.45284057e-01,  4.27303985e-02,  1.96826398e-01,  1.20898455e-01,\n",
       "        1.84945986e-01, -1.97335079e-01, -1.62073717e-01,  2.71219742e-02,\n",
       "        2.88143903e-02,  4.44550626e-02,  1.21003859e-01, -9.28981379e-02,\n",
       "        1.28483653e-01, -4.86432947e-02,  1.21562190e-01, -2.69738827e-02,\n",
       "        1.51048660e-01,  2.78861672e-02, -1.42597005e-01, -9.21914950e-02,\n",
       "        6.08721748e-02, -9.62594971e-02, -2.55106926e-01,  4.52734753e-02,\n",
       "       -5.04335342e-03, -2.26680618e-02,  4.82149124e-02, -1.51182324e-01,\n",
       "       -2.33050734e-01, -1.20406197e-02, -2.54463237e-02, -1.99565619e-01,\n",
       "        3.88121344e-02,  9.31919217e-02, -1.96852371e-01,  2.12987736e-01,\n",
       "       -5.02605997e-02, -6.41485974e-02, -2.08940711e-02, -1.24871872e-01,\n",
       "       -2.50115722e-01, -1.51318580e-01, -1.61646977e-01, -7.97997564e-02,\n",
       "        1.66993365e-01,  1.59489542e-01, -4.61548604e-02, -1.24198735e-01,\n",
       "        1.47445677e-02,  1.02543391e-01, -1.40944302e-01, -1.73384488e-01,\n",
       "        3.28369811e-02,  2.20072214e-02,  2.38731746e-02, -1.04661077e-01,\n",
       "       -9.07867029e-02, -3.02931797e-02, -5.91772199e-02, -2.23406956e-01,\n",
       "        2.20128089e-01,  1.54603655e-02, -1.22917853e-02, -8.15528333e-02,\n",
       "       -7.51200914e-02, -2.54079280e-03,  1.78923890e-01, -1.71790853e-01,\n",
       "       -3.89863439e-02,  1.03295758e-01, -2.64928252e-01,  2.55279511e-01,\n",
       "        1.15407772e-01, -1.28131732e-01, -3.74280353e-04, -9.56484899e-02,\n",
       "        4.33703251e-02,  6.66580796e-02,  9.31910574e-02, -1.94714561e-01,\n",
       "       -1.04056504e-02, -7.65615851e-02, -1.95758622e-02,  2.19130114e-01,\n",
       "       -1.37314992e-02,  1.51208490e-02, -6.76613078e-02, -1.23787709e-02,\n",
       "       -2.05566481e-01,  3.76645736e-02, -1.28895909e-01, -3.10491864e-02,\n",
       "        3.89140658e-02, -8.94124433e-02,  1.19188111e-02,  1.52253807e-01,\n",
       "        3.23303938e-02, -4.20762338e-02,  6.47433288e-03, -2.26446744e-02,\n",
       "       -5.29602021e-02,  3.38230878e-02, -8.38007778e-02,  9.52004790e-02,\n",
       "       -1.62501603e-01, -1.68841928e-01, -6.50999919e-02,  1.01149613e-04,\n",
       "        1.14314616e-01,  1.69356614e-01, -1.89547017e-02,  1.13222100e-01,\n",
       "       -7.97368363e-02,  6.11007512e-02,  1.36583179e-01,  6.61901161e-02,\n",
       "        6.30750656e-02,  2.83412244e-02,  7.83667266e-02,  1.09357901e-01,\n",
       "       -1.06289750e-03, -6.24156743e-03,  2.34515909e-02, -3.35683227e-02,\n",
       "        3.17003168e-02, -5.89236431e-02,  2.47900426e-01, -1.39994733e-02,\n",
       "       -1.54554710e-01,  3.78412008e-02, -1.28166065e-01, -1.33933306e-01,\n",
       "       -1.94250718e-01, -1.92568414e-02, -3.86198610e-03,  3.52727145e-01,\n",
       "       -1.31997527e-04,  1.47275403e-01,  2.92084794e-02, -1.17196515e-01,\n",
       "       -4.12454791e-02,  1.55107915e-01,  2.85094138e-02, -4.52521518e-02,\n",
       "        8.49664137e-02,  1.67831834e-02,  1.28363058e-01, -2.75182948e-02,\n",
       "       -3.99636924e-02,  3.91557291e-02,  5.05882502e-03,  6.71216697e-02,\n",
       "       -9.26368535e-02,  4.16020378e-02,  1.55219987e-01,  1.12192295e-01,\n",
       "       -1.74410179e-01, -2.32994948e-02, -3.00553352e-01, -7.95997903e-02,\n",
       "       -5.30656949e-02,  1.39222547e-01, -7.35405236e-02,  1.30452365e-01,\n",
       "       -6.65014237e-02,  1.67748570e-01, -6.19740821e-02, -1.35435686e-01,\n",
       "        2.55962193e-01, -7.13455081e-02, -7.02620149e-02, -7.31921047e-02,\n",
       "       -4.47334303e-03,  1.73608407e-01, -3.94431576e-02,  1.78712204e-01,\n",
       "       -6.80235308e-03, -1.88129380e-01, -1.31241634e-01, -6.75414428e-02,\n",
       "       -6.98167682e-02,  7.88422301e-02, -1.24638438e-01,  6.13758788e-02,\n",
       "       -1.85599580e-01, -3.36373411e-02,  1.37759715e-01, -7.90539160e-02,\n",
       "        1.15899585e-01,  4.24292013e-02,  6.94993325e-03, -7.10729882e-02,\n",
       "        1.33873641e-01, -4.39249948e-02,  3.28293676e-03, -3.10717486e-02,\n",
       "        9.03516263e-02,  5.03686443e-02, -2.67439127e-01, -1.27699990e-02,\n",
       "       -1.42887965e-01,  1.43129662e-01, -1.09098367e-01,  9.64466408e-02,\n",
       "        4.03542407e-02,  5.74573725e-02,  2.90851653e-01,  1.38674006e-01,\n",
       "        2.89671812e-02,  6.80585951e-02, -7.89677575e-02, -4.13672775e-02,\n",
       "       -1.09577533e-02,  5.90522587e-02, -2.11733840e-02,  1.90722980e-02,\n",
       "        7.10225478e-02,  1.19834810e-01,  3.09783090e-02,  2.43598595e-01,\n",
       "       -4.20737965e-03,  2.47117914e-02, -1.26496375e-01, -6.40109554e-02,\n",
       "       -1.47866234e-01,  6.39536902e-02, -1.25230491e-01,  9.14037004e-02,\n",
       "        5.55721745e-02, -6.09291196e-02, -1.75510466e-01,  8.41353554e-03,\n",
       "       -1.27361432e-01,  4.44025770e-02,  2.49909580e-01,  7.92728961e-02,\n",
       "       -6.55051097e-02, -3.56508717e-02,  3.72194722e-02,  2.28705615e-01,\n",
       "       -5.99952787e-03,  3.55320387e-02, -1.55145330e-02,  4.45651300e-02,\n",
       "       -7.46749863e-02,  4.15959768e-02,  5.00055216e-02, -4.03324887e-02,\n",
       "       -3.64046879e-02, -6.07314408e-02, -8.62734914e-02, -7.63874948e-02,\n",
       "        5.25654778e-02, -3.72433886e-02,  8.60150680e-02, -1.23051010e-04,\n",
       "       -7.60687292e-02,  3.43108661e-02, -7.56857842e-02,  4.42119017e-02,\n",
       "       -2.46687487e-01,  4.56314944e-02,  2.15621173e-01,  1.63019687e-01,\n",
       "       -5.30075207e-02, -1.28232926e-01,  9.20203254e-02,  1.37667418e-01,\n",
       "       -4.50279340e-02, -1.17880575e-01, -3.87871832e-01, -1.71258077e-01,\n",
       "        6.75720721e-02,  6.04951903e-02, -3.89683642e-03,  1.28854483e-01,\n",
       "        6.30377308e-02, -9.42664221e-03, -5.42139933e-02, -6.12232508e-03,\n",
       "       -5.92555441e-02, -6.68856129e-02,  1.13691524e-01,  1.83223039e-02,\n",
       "        2.61233926e-01,  3.56549434e-02, -2.92397980e-02,  1.87143192e-01,\n",
       "       -6.21031858e-02,  1.11322813e-01, -2.64896125e-01, -7.51874829e-03,\n",
       "        6.18407801e-02, -2.81370915e-02,  1.14901036e-01,  2.21156180e-01,\n",
       "       -9.58858505e-02,  3.19895446e-02,  2.38854334e-01,  1.06872357e-01,\n",
       "        2.55556256e-02,  1.07293114e-01,  5.89356907e-02, -6.17771074e-02,\n",
       "        2.77286880e-02,  2.14425609e-01, -7.78155774e-02,  1.10283479e-01,\n",
       "       -2.74140947e-02, -6.97858557e-02, -3.65145169e-02,  3.80554907e-02,\n",
       "       -8.55166614e-02,  2.04723835e-01, -1.21213816e-01,  6.19060062e-02,\n",
       "       -9.64839309e-02, -1.26856700e-01,  1.46140143e-01, -1.41384155e-02,\n",
       "        1.34631068e-01,  3.26337144e-02, -6.96270615e-02,  1.64146870e-02,\n",
       "        3.10975406e-02,  4.33608182e-02,  4.81905118e-02, -1.28629114e-02,\n",
       "       -2.84512825e-02,  7.60581568e-02, -1.17581345e-01,  8.37977454e-02,\n",
       "        6.29349276e-02, -2.38412306e-01,  2.01088846e-01, -1.03230625e-01,\n",
       "       -1.25828594e-01,  1.01048723e-01,  1.90485671e-01, -1.91590026e-01,\n",
       "       -6.69425800e-02, -4.65269992e-03, -1.17041849e-01,  8.69363621e-02,\n",
       "        2.59519964e-02,  2.58351117e-01, -7.48204961e-02, -6.56172559e-02,\n",
       "       -4.56328318e-03,  1.22637540e-01, -2.76314050e-01, -6.71890378e-02,\n",
       "        5.41319139e-02,  1.67672262e-01, -1.98762313e-01,  4.28396799e-02,\n",
       "       -1.36207551e-01, -1.48602143e-01,  9.00319591e-02, -8.93896520e-02],\n",
       "      dtype=float32)"
      ]
     },
     "execution_count": 137,
     "metadata": {},
     "output_type": "execute_result"
    }
   ],
   "source": [
    "all_embeddings[int(input['input_ids'][0][0])]"
   ]
  },
  {
   "cell_type": "code",
   "execution_count": 139,
   "metadata": {},
   "outputs": [
    {
     "data": {
      "text/plain": [
       "array([-8.82458463e-02, -1.48491278e-01,  1.66473478e-01, -6.21462502e-02,\n",
       "        1.04430571e-01, -4.42378335e-02, -1.89343140e-01, -1.67701453e-01,\n",
       "       -1.17449902e-01,  2.26168968e-02, -1.70683004e-02, -7.24432394e-02,\n",
       "        1.00218609e-01,  7.13492706e-02, -5.38844801e-03, -7.31483251e-02,\n",
       "        4.42156903e-02,  5.22423908e-02,  1.96507007e-01, -1.09720364e-01,\n",
       "        3.34728323e-02, -5.54094985e-02,  2.49989219e-02,  2.68163476e-02,\n",
       "        6.71015382e-02, -1.18764648e-02, -4.06111255e-02,  6.92032278e-02,\n",
       "       -7.23407790e-02, -1.15340017e-03, -1.18713558e-01, -1.86437935e-01,\n",
       "        7.86369666e-02,  1.09221309e-01, -9.42324921e-02, -1.16980538e-01,\n",
       "       -1.06942022e+00, -6.47974163e-02, -1.06623292e-01,  2.73004919e-03,\n",
       "       -7.32454583e-02, -1.45796180e-01,  1.31131053e-01,  1.16416983e-01,\n",
       "        2.08943471e-01, -8.38008747e-02, -1.41382307e-01,  6.06848449e-02,\n",
       "       -1.15030080e-01,  3.69012177e-01, -1.33634545e-02, -1.90180957e-01,\n",
       "        7.82053113e-01, -4.81359474e-02, -1.19983137e-01,  3.90797520e+00,\n",
       "       -6.24986179e-02, -2.81866640e-02,  4.20060493e-02, -1.21318862e-01,\n",
       "        3.56659517e-02,  6.47701100e-02, -7.61637315e-02,  2.02857871e-02,\n",
       "        1.41904086e-01,  1.10753007e-01, -5.37270540e-03, -3.38062972e-01,\n",
       "        4.56930548e-02,  5.56907021e-02, -1.07292049e-01,  7.56896287e-03,\n",
       "       -1.91763416e-02, -1.02921583e-01, -3.34927961e-02,  2.68036872e-02,\n",
       "        1.96481377e-01,  2.34527394e-01,  1.46683920e-02,  8.41894895e-02,\n",
       "        1.05990827e-01, -4.92546409e-02, -7.90805183e-03, -8.37156549e-02,\n",
       "        1.30049139e-01, -3.68471369e-02, -1.08006942e+00,  1.08761013e-01,\n",
       "        2.79698104e-01,  2.08593473e-01, -1.45135149e-01, -1.28471136e-01,\n",
       "       -1.18320793e-01, -2.79285014e-04, -9.25048813e-03, -2.14788318e-01,\n",
       "        1.27314935e-02,  4.36828379e-03, -1.11387752e-01,  1.08291924e-01,\n",
       "        1.69514403e-01, -2.36352608e-01, -3.71097356e-01, -3.25316340e-01,\n",
       "        6.27194792e-02,  3.00221965e-02, -2.83797324e-01,  2.08190084e-01,\n",
       "       -1.62224416e-02, -2.01603733e-02,  1.46497309e-01,  1.65915787e-01,\n",
       "        1.30347878e-01,  2.19974041e-01, -1.20051354e-01, -1.66893862e-02,\n",
       "       -7.98123538e-01,  3.55911441e-02,  1.68526128e-01,  1.46799013e-02,\n",
       "        3.17032449e-02,  1.32864416e-02,  7.29461238e-02, -1.15767710e-01,\n",
       "        7.71111995e-03,  5.91935627e-02, -2.66711563e-02,  2.06160694e-02,\n",
       "       -1.58494562e-01,  2.36958936e-01,  8.85326117e-02, -2.16927715e-02,\n",
       "        6.72939420e-02, -1.08907975e-01,  1.88032940e-01,  6.56816661e-02,\n",
       "       -1.61742136e-01, -1.15929544e-01, -2.75325328e-02, -5.53957701e-01,\n",
       "       -6.27329648e-02, -3.42845768e-02,  3.01765591e-01, -1.68842494e-01,\n",
       "        2.52717435e-02, -1.43318787e-01,  4.45268825e-02, -9.66723487e-02,\n",
       "       -3.24790366e-02,  2.32492104e-01,  1.02874339e-02,  1.49559304e-02,\n",
       "       -1.47460615e-02, -3.28328833e-02,  2.06506759e-01,  1.42178714e-01,\n",
       "       -2.84475461e-02,  5.68767861e-02,  2.45538726e-02, -1.88091189e-01,\n",
       "       -3.45441818e-01,  2.48468686e-02,  1.29229933e-01, -2.13011652e-01,\n",
       "       -4.05045561e-02,  4.46426421e-02, -2.11091340e-01,  2.06705660e-01,\n",
       "       -2.69403249e-01,  3.85877073e-01,  1.78126574e-01,  9.03669670e-02,\n",
       "        2.36875061e-02, -1.10773943e-01,  4.54877988e-02, -2.34059662e-01,\n",
       "       -7.12290466e-01,  3.21392864e-02, -3.24649364e-02,  1.60731107e-01,\n",
       "       -3.67666781e-03,  1.51065243e-02, -2.10033476e-01,  2.54914463e-01,\n",
       "        6.31513149e-02, -5.50964698e-02, -1.05216041e-01,  2.02852219e-01,\n",
       "        6.97160363e-02, -2.23530501e-01, -2.10348815e-01, -6.46642894e-02,\n",
       "        6.83850870e-02,  1.20563708e-01,  1.15978174e-01, -7.14825094e-02,\n",
       "        3.83558869e-03,  1.17836986e-02,  9.01953354e-02,  1.68457121e-01,\n",
       "       -3.04989457e-01, -4.80609834e-02,  4.74644527e-02,  7.33498931e-02,\n",
       "        1.22759297e-01, -5.77227809e-02,  6.07358366e-02, -1.94737427e-02,\n",
       "       -9.86968204e-02, -6.49748370e-02, -1.47918627e-01,  6.12090416e-02,\n",
       "        3.35943848e-02, -3.08308676e-02, -1.52948529e-01,  1.36869073e-01,\n",
       "        3.06448210e-02, -1.37759134e-01,  1.14245623e-01, -7.45508522e-02,\n",
       "        5.38285002e-02,  1.03405081e-01, -7.85550475e-02, -2.61294454e-01,\n",
       "       -9.07076821e-02, -1.61587253e-01,  8.10864270e-02, -6.88976347e-02,\n",
       "        7.48723522e-02,  7.46014491e-02, -8.94472897e-02,  7.80346617e-02,\n",
       "       -1.60443127e-01, -7.86082372e-02, -7.92089254e-02, -3.17091197e-02,\n",
       "        9.22252908e-02,  5.69455326e-02, -1.27927765e-01, -5.51318303e-02,\n",
       "       -1.59570724e-01,  6.61545321e-02,  1.19717218e-01, -6.09791502e-02,\n",
       "        1.20833032e-01,  8.74637514e-02,  1.26039982e-01, -4.99484017e-02,\n",
       "        1.40930235e-01,  7.70498663e-02,  1.80037290e-01,  2.25452304e-01,\n",
       "        1.73487708e-01, -4.97565903e-02, -2.85205811e-01, -4.15723175e-02,\n",
       "        1.35444924e-01,  1.18961230e-01,  1.92103684e-01,  3.64968702e-02,\n",
       "        1.72791854e-02, -1.80768818e-01, -7.56953359e-02, -1.74748138e-01,\n",
       "       -5.68549298e-02,  8.84922221e-03,  1.19946606e-01, -4.94674221e-02,\n",
       "        1.16175443e-01,  4.89904024e-02,  2.34579277e+00,  5.45355380e-01,\n",
       "        1.03042088e-03, -2.77710617e-01,  2.48420686e-02,  6.49824142e-02,\n",
       "       -4.88497287e-01, -6.76124357e-03,  2.18121752e-01,  1.42999217e-02,\n",
       "       -1.25909939e-01, -1.82683960e-01, -2.04494298e-02,  1.90854847e-01,\n",
       "       -4.06846821e-01,  3.23391370e-02, -9.34832729e-03,  5.42263873e-03,\n",
       "       -5.51278353e-01,  7.52628267e-01,  6.46344051e-02,  1.78230703e-02,\n",
       "        2.07026824e-02,  4.73777764e-02,  3.25114965e-01, -1.28181458e-01,\n",
       "        1.51010066e-01,  2.30382442e-01,  1.59141734e-01, -5.49203902e-03,\n",
       "        3.02214861e+00,  1.61971673e-01, -4.98056859e-02,  6.57197163e-02,\n",
       "        3.00991163e-03,  1.94826439e-01, -4.24671508e-02, -2.44507983e-01,\n",
       "       -7.34280795e-02,  2.18668766e-02, -8.76436196e-03,  3.78084064e-01,\n",
       "       -7.76206478e-02,  2.61116140e-02,  1.37651190e-01,  1.42680421e-01,\n",
       "       -5.56851514e-02,  9.83859152e-02, -1.18540399e-01,  6.19110912e-02,\n",
       "        5.04312932e-01,  3.01624592e-02,  1.62932843e-01, -2.13468336e-02,\n",
       "        5.29512987e-02, -1.58809498e-03, -8.18230867e-01, -7.28974864e-02,\n",
       "        7.49620050e-02,  5.04665300e-02, -1.13581307e-01,  1.64909333e-01,\n",
       "        1.17902391e-01,  9.25574377e-02,  1.61159337e-01, -1.32770345e-01,\n",
       "        1.54386178e-01,  1.09557495e-01,  2.40128055e-01, -1.29777610e-01,\n",
       "       -2.32031289e-02, -8.71517062e-02, -6.04813062e-02,  9.50739235e-02,\n",
       "       -1.24858558e-01, -5.35515770e-02,  7.84656405e-02, -8.67188051e-02,\n",
       "       -1.69872150e-01, -6.80275559e-02,  2.28775814e-02, -4.93068844e-01,\n",
       "        2.81765580e-01, -1.08318374e-01, -2.24096432e-01,  1.27178151e-02,\n",
       "       -2.17969370e+00, -2.43377358e-01, -1.56448856e-01, -6.44130632e-02,\n",
       "        6.86766803e-02, -8.18027437e-01,  9.12320018e-02,  8.22797790e-03,\n",
       "        1.33579850e-01, -4.32205945e-01,  1.76080227e-01, -2.97567118e-02,\n",
       "        6.45666867e-02, -3.68373208e-02, -1.36173874e-01,  3.05000339e-02,\n",
       "        3.19371819e-02,  1.13799892e-01, -3.33595276e-01,  3.12846154e-03,\n",
       "        1.72008023e-01, -9.24606085e-01, -7.98321366e-02, -4.74049747e-02,\n",
       "        9.45880711e-02, -1.27572417e-01, -2.89837569e-01, -1.64530605e-01,\n",
       "       -2.20537856e-02,  5.06487861e-02, -7.02739507e-03,  1.41475543e-01,\n",
       "       -1.51017904e-01,  3.85114014e-01,  2.19033226e-01,  8.63564573e-03,\n",
       "       -3.94174643e-02, -1.36349320e-01, -1.11845605e-01, -9.12597179e-02,\n",
       "        4.78639007e-02, -1.02848783e-02,  6.65869042e-02, -1.02815479e-01,\n",
       "       -1.62094265e-01,  1.45140916e-01, -4.70071614e-01, -2.94458538e-01,\n",
       "        7.29141235e-02,  2.76469272e-02,  4.93132323e-02,  1.12822488e-01,\n",
       "       -2.69782066e-01,  4.10254672e-02,  1.97164997e-01,  7.53574073e-02,\n",
       "        1.60347506e-01, -2.15600088e-01, -1.69426382e-01,  8.01921114e-02,\n",
       "        5.47260419e-02, -4.15154174e-03,  1.56771541e-01, -1.15743071e-01,\n",
       "       -2.18901724e-01, -8.61240923e-02,  1.13491438e-01,  4.96220961e-02,\n",
       "        1.08518943e-01,  7.03057349e-02, -9.39945430e-02, -7.01996610e-02,\n",
       "        1.74724787e-01, -1.21019393e-01, -3.45847517e-01,  5.69623038e-02,\n",
       "        9.26261693e-02,  3.97517607e-02,  4.90491092e-02, -9.40621421e-02,\n",
       "       -2.36414492e-01,  3.13216001e-02, -1.89909153e-02,  2.34525532e-01,\n",
       "        1.05235595e-02,  1.01645328e-01, -3.46013755e-02,  2.34642789e-01,\n",
       "        4.51758876e-03, -3.06825303e-02, -1.03816800e-02, -1.18483819e-01,\n",
       "       -2.67734915e-01, -1.88350677e-01, -2.15574443e-01, -1.01697519e-01,\n",
       "        1.87853828e-01,  5.89044511e-01, -1.79990903e-02, -4.29159105e-01,\n",
       "       -3.55225988e-02,  1.35771453e-01, -1.42890096e-01,  2.62654364e-01,\n",
       "        4.54307832e-02,  2.36857478e-02,  5.58908433e-02, -1.16096020e-01,\n",
       "       -6.05314299e-02, -5.84047139e-02, -5.50231412e-02, -2.52543867e-01,\n",
       "        1.67914480e-01, -6.03562295e-02, -1.73356198e-02, -7.76942968e-02,\n",
       "        2.47342288e-02, -2.94627901e-02,  1.88809291e-01, -1.78839341e-01,\n",
       "       -4.48617525e-02,  1.30898833e-01, -1.74181610e-01, -6.12447023e-01,\n",
       "        9.00347084e-02, -1.18736655e-01,  4.14982624e-03, -7.43591562e-02,\n",
       "        2.54342984e-02,  3.05213742e-02,  7.31033832e-02, -2.13959858e-01,\n",
       "        1.27481982e-01, -4.42119688e-02,  3.02077141e-02,  2.26233438e-01,\n",
       "        1.02848569e-02,  1.46521218e-02, -5.76187298e-02, -3.09484433e-02,\n",
       "       -3.99818540e-01,  2.42973000e-01, -8.41743350e-02, -7.98138455e-02,\n",
       "        6.94252700e-02, -8.92609358e-02,  2.30280980e-02, -1.36267781e+00,\n",
       "        5.80184460e-02, -3.47524509e-02,  5.06562442e-02, -3.85073386e-02,\n",
       "       -1.21996626e-01,  4.34488878e-02, -6.20787777e-02,  4.77095962e-01,\n",
       "       -1.48846477e-01, -2.02270687e-01, -3.19618993e-02, -1.74952149e-02,\n",
       "        1.26668498e-01,  7.13536069e-02, -1.78596750e-03,  1.52813539e-01,\n",
       "       -3.96427289e-02,  2.26595663e-02,  2.08420277e-01,  6.23588078e-02,\n",
       "        2.36800723e-02, -2.27462456e-01,  3.70683819e-02, -9.42283496e-02,\n",
       "       -9.54261601e-01,  1.94005612e-02,  3.27239297e-02,  3.77078354e-03,\n",
       "        6.80421144e-02, -6.59764484e-02,  1.82506651e-01, -1.73456594e-03,\n",
       "       -1.44432560e-01,  4.93897684e-02, -1.46305710e-01, -1.27785131e-01,\n",
       "        1.51926374e+00, -5.47758490e-02, -5.46284951e-02,  3.60401660e-01,\n",
       "        2.91986261e-02,  1.50318369e-01, -2.27055140e-03, -1.29764125e-01,\n",
       "       -6.25659674e-02,  1.76814467e-01,  4.74967733e-02, -9.34083223e-01,\n",
       "        9.70916301e-02,  4.32211161e-02,  3.37792099e-01,  5.45156002e-03,\n",
       "        2.67997533e-02,  7.24112764e-02, -2.77662463e-02, -5.29258847e-02,\n",
       "       -1.41997769e-01,  9.29130465e-02,  1.21740118e-01,  1.21741205e-01,\n",
       "       -1.09596699e-01, -4.77855429e-02, -5.77213407e-01, -7.91055113e-02,\n",
       "       -8.75506178e-03,  1.24985851e-01, -8.99581313e-02,  1.48592234e-01,\n",
       "        1.43172890e-02,  1.81554556e-01, -5.96991032e-02, -1.59139365e-01,\n",
       "        2.91223615e-01, -6.36856258e-02, -3.16602923e-02, -6.65365309e-02,\n",
       "       -2.22776085e-02,  1.52853775e+00, -1.96910184e-02,  1.43805161e-01,\n",
       "       -3.99315264e-04, -2.48646915e-01, -7.03998283e-02, -8.49854201e-02,\n",
       "        3.89873087e-02,  6.00925088e-02, -1.35040775e-01,  5.46878576e-02,\n",
       "       -1.93360180e-01, -5.57713695e-02,  1.50471434e-01, -9.19189900e-02,\n",
       "        8.05977434e-02,  4.07392979e-02,  1.38268266e-02, -4.43382561e-02,\n",
       "        1.69878364e-01, -4.18708958e-02, -4.55754101e-02, -9.00340006e-02,\n",
       "        4.94992323e-02,  3.87410335e-02, -2.55218178e-01, -3.02449949e-02,\n",
       "        9.72979665e-02,  1.17423065e-01, -9.74594876e-02,  8.88819918e-02,\n",
       "        3.74545269e-02,  4.67257649e-02,  1.78188473e-01,  3.21729660e-01,\n",
       "        1.93855390e-02,  1.58909231e-01, -1.20081976e-01, -8.81366581e-02,\n",
       "       -2.51156874e-02,  8.53964686e-02,  6.38806045e-01, -4.82518256e-01,\n",
       "        1.35253564e-01,  1.26118273e-01, -2.35158019e-03, -1.36621892e+00,\n",
       "        3.38622220e-02,  3.57376896e-02, -1.52390391e-01, -5.78706227e-02,\n",
       "       -1.01247810e-01,  9.13334265e-02, -1.57884896e-01,  1.15269154e-01,\n",
       "        2.69361474e-02, -5.80084994e-02, -1.78860039e-01,  3.55756432e-02,\n",
       "        6.45976067e-02, -1.77394599e-02,  2.71769881e-01,  3.52107108e-01,\n",
       "       -3.29408869e-02, -2.57425122e-02,  5.24956733e-03,  2.65231639e-01,\n",
       "        1.67369731e-02, -1.49735674e-01, -2.39130668e-02,  6.92668185e-03,\n",
       "       -5.22281080e-02,  6.47444874e-02,  5.49063496e-02, -5.39736986e-01,\n",
       "       -9.49820578e-02, -4.71465923e-02, -1.39452145e-01, -6.74492642e-02,\n",
       "        2.30621379e-02, -2.53954157e-02,  7.90335611e-02,  1.53148854e-02,\n",
       "       -1.40325308e-01, -4.80321459e-02, -1.62142843e-01, -2.95021757e-02,\n",
       "       -2.29923204e-01,  1.08364388e-01,  3.22311497e+00,  1.65367812e-01,\n",
       "       -6.11179918e-02, -9.19186920e-02, -4.44609308e+00,  1.67713597e-01,\n",
       "       -4.93868925e-02, -1.15950078e-01, -4.07785982e-01, -1.56527889e+00,\n",
       "        1.53396696e-01,  6.20029978e-02, -3.97099033e-02,  1.03344925e-01,\n",
       "        1.44984066e-01, -4.93069254e-02, -5.85864261e-02,  4.05839719e-02,\n",
       "       -1.34929046e-01, -1.24841288e-01,  7.35280365e-02,  2.69603282e-02,\n",
       "        2.42342040e-01,  4.77209017e-02,  4.21083495e-02,  2.17946798e-01,\n",
       "       -2.67710052e-02,  8.13117847e-02, -2.69522727e-01, -3.11674982e-01,\n",
       "        6.91687614e-02, -3.96616310e-01,  1.33092716e-01,  2.42721796e-01,\n",
       "       -7.09552914e-02,  9.16393474e-04,  2.38949761e-01, -1.24110654e-02,\n",
       "        2.40049027e-02, -1.35387897e-01,  5.04801758e-02, -7.51255155e-02,\n",
       "        2.92651933e-02,  2.20714539e-01, -6.46149293e-02,  1.25363380e-01,\n",
       "       -3.05823851e-02, -1.62250549e-03, -8.28300595e-01,  3.34353261e-02,\n",
       "        8.25224519e-01,  4.33239937e-02, -1.07916951e-01,  6.83767498e-02,\n",
       "        1.35484397e+00, -7.64134601e-02,  2.86976933e-01,  1.73979811e-03,\n",
       "        4.78621781e-01,  2.41315439e-02, -7.54697099e-02,  5.83117362e-03,\n",
       "        8.22258741e-02,  7.99490362e-02,  8.62988234e-02, -5.37445545e-02,\n",
       "       -6.39174059e-02,  6.52187020e-02, -1.15133226e-01, -1.17270671e-01,\n",
       "        6.89633787e-02, -1.89256757e-01,  1.79611772e-01, -1.05657429e-01,\n",
       "       -1.34980723e-01,  4.50165987e-01,  3.90981436e-02, -2.67072976e-01,\n",
       "       -4.47369069e-02, -1.07969400e-02, -1.23357028e-01,  1.84676409e-01,\n",
       "        3.89736854e-02,  2.71796167e-01, -4.83891889e-02, -1.02114305e-01,\n",
       "       -1.59288073e+00,  5.94215170e-02, -3.22535247e-01, -9.58561972e-02,\n",
       "        1.08584508e-01,  1.14812024e-01, -1.96202070e-01,  3.44115756e-02,\n",
       "       -1.32840455e-01, -1.91645876e-01,  1.18299149e-01, -3.48995440e-02],\n",
       "      dtype=float32)"
      ]
     },
     "execution_count": 139,
     "metadata": {},
     "output_type": "execute_result"
    }
   ],
   "source": [
    "embeddings[0]"
   ]
  },
  {
   "cell_type": "markdown",
   "metadata": {},
   "source": [
    "# Brouillon"
   ]
  },
  {
   "cell_type": "code",
   "execution_count": 58,
   "metadata": {},
   "outputs": [
    {
     "ename": "NameError",
     "evalue": "name 'probs' is not defined",
     "output_type": "error",
     "traceback": [
      "\u001b[0;31m---------------------------------------------------------------------------\u001b[0m",
      "\u001b[0;31mNameError\u001b[0m                                 Traceback (most recent call last)",
      "Cell \u001b[0;32mIn[58], line 1\u001b[0m\n\u001b[0;32m----> 1\u001b[0m tokens_sorted_by_prob\u001b[38;5;241m=\u001b[39m\u001b[38;5;28msorted\u001b[39m(\u001b[38;5;28mlist\u001b[39m(\u001b[38;5;28mzip\u001b[39m([tokenizer\u001b[38;5;241m.\u001b[39mdecode(i) \u001b[38;5;28;01mfor\u001b[39;00m i \u001b[38;5;129;01min\u001b[39;00m \u001b[38;5;28mrange\u001b[39m(\u001b[38;5;28mlen\u001b[39m(\u001b[43mprobs\u001b[49m))],probs)), key\u001b[38;5;241m=\u001b[39m\u001b[38;5;28;01mlambda\u001b[39;00m x: x[\u001b[38;5;241m1\u001b[39m], reverse\u001b[38;5;241m=\u001b[39m\u001b[38;5;28;01mTrue\u001b[39;00m)\n\u001b[1;32m      2\u001b[0m \u001b[38;5;28;01mfor\u001b[39;00m i \u001b[38;5;129;01min\u001b[39;00m \u001b[38;5;28mrange\u001b[39m(\u001b[38;5;241m10\u001b[39m):\n\u001b[1;32m      3\u001b[0m     \u001b[38;5;28mprint\u001b[39m(\u001b[38;5;124mf\u001b[39m\u001b[38;5;124m'\u001b[39m\u001b[38;5;132;01m{\u001b[39;00mtokens_sorted_by_prob[i][\u001b[38;5;241m0\u001b[39m]\u001b[38;5;132;01m}\u001b[39;00m\u001b[38;5;124m -> \u001b[39m\u001b[38;5;132;01m{\u001b[39;00mtokens_sorted_by_prob[i][\u001b[38;5;241m1\u001b[39m]\u001b[38;5;132;01m:\u001b[39;00m\u001b[38;5;124m.3f\u001b[39m\u001b[38;5;132;01m}\u001b[39;00m\u001b[38;5;124m'\u001b[39m)\n",
      "\u001b[0;31mNameError\u001b[0m: name 'probs' is not defined"
     ]
    }
   ],
   "source": [
    "tokens_sorted_by_prob=sorted(list(zip([tokenizer.decode(i) for i in range(len(probs))],probs)), key=lambda x: x[1], reverse=True)\n",
    "for i in range(10):\n",
    "    print(f'{tokens_sorted_by_prob[i][0]} -> {tokens_sorted_by_prob[i][1]:.3f}')"
   ]
  },
  {
   "cell_type": "markdown",
   "metadata": {},
   "source": [
    "Le modèle choisi le token ayant le plus "
   ]
  },
  {
   "cell_type": "code",
   "execution_count": 115,
   "metadata": {},
   "outputs": [],
   "source": [
    "prompt = 'Artificial intelligence'"
   ]
  },
  {
   "cell_type": "code",
   "execution_count": 116,
   "metadata": {},
   "outputs": [
    {
     "data": {
      "text/plain": [
       "{'input_ids': tensor([[8001, 9542, 4430]], device='mps:0'), 'attention_mask': tensor([[1, 1, 1]], device='mps:0')}"
      ]
     },
     "execution_count": 116,
     "metadata": {},
     "output_type": "execute_result"
    }
   ],
   "source": [
    "input = tokenizer(prompt, return_tensors=\"pt\").to(device)\n",
    "input"
   ]
  },
  {
   "cell_type": "code",
   "execution_count": 151,
   "metadata": {},
   "outputs": [
    {
     "name": "stdout",
     "output_type": "stream",
     "text": [
      "Artificial intelligence is a new\n"
     ]
    }
   ],
   "source": [
    "output = gpt2.generate(input_ids=input['input_ids'], attention_mask=input['attention_mask'], max_new_tokens=3)\n",
    "print(tokenizer.decode(output[0]))"
   ]
  },
  {
   "cell_type": "code",
   "execution_count": 160,
   "metadata": {},
   "outputs": [
    {
     "data": {
      "text/plain": [
       "'Artificial intelligence (AI)'"
      ]
     },
     "execution_count": 160,
     "metadata": {},
     "output_type": "execute_result"
    }
   ],
   "source": [
    "output = gpt2.generate(input_ids=input['input_ids'], attention_mask=input['attention_mask'], max_new_tokens=3, num_beams = 2)\n",
    "tokenizer.decode(output[0])"
   ]
  },
  {
   "cell_type": "code",
   "execution_count": 184,
   "metadata": {},
   "outputs": [],
   "source": [
    "prompt = 'Artificial intelligence is'\n",
    "input = tokenizer(prompt, return_tensors=\"pt\").to(device)\n",
    "output = gpt2.generate(input_ids=input['input_ids'], attention_mask=input['attention_mask'], max_new_tokens=1,return_dict_in_generate=True, output_scores=True, num_beams = 2)"
   ]
  },
  {
   "cell_type": "code",
   "execution_count": 185,
   "metadata": {},
   "outputs": [],
   "source": [
    "#prob = torch.nn.functional.softmax(output['scores'][0],dim=1).cpu().detach().numpy()[0]\n",
    "prob = torch.nn.functional.softmax(output['scores'][0],dim=1).cpu().numpy()[0]\n",
    "prob_of_each_token = list(zip([tokenizer.decode(i) for i in range(50257)], prob))"
   ]
  },
  {
   "cell_type": "code",
   "execution_count": 186,
   "metadata": {},
   "outputs": [
    {
     "name": "stdout",
     "output_type": "stream",
     "text": [
      "|token|   -> score\n",
      "\n",
      "| a|      -> 0.1204\n",
      "| the|    -> 0.0525\n",
      "| not|    -> 0.0432\n",
      "| an|     -> 0.0309\n",
      "| now|    -> 0.0206\n",
      "| one|    -> 0.0189\n",
      "| also|   -> 0.0188\n",
      "| already| -> 0.0172\n",
      "| becoming| -> 0.0161\n",
      "| just|   -> 0.0142\n"
     ]
    }
   ],
   "source": [
    "print(f'{\"|token|\":9} -> score\\n')\n",
    "for token, score in sorted(prob_of_each_token, key=lambda x: x[1], reverse=True)[:10]:\n",
    "    print(f'{\"|\"+token+\"|\":9} -> {score:.4f}')"
   ]
  },
  {
   "cell_type": "code",
   "execution_count": 168,
   "metadata": {},
   "outputs": [
    {
     "data": {
      "text/plain": [
       "tensor([[ 8001,  9542,  4430,   357, 20185,     8],\n",
       "        [ 8001,  9542,  4430,   357, 20185,   828]], device='mps:0')"
      ]
     },
     "execution_count": 168,
     "metadata": {},
     "output_type": "execute_result"
    }
   ],
   "source": [
    "output['sequences']"
   ]
  },
  {
   "cell_type": "code",
   "execution_count": 171,
   "metadata": {},
   "outputs": [
    {
     "data": {
      "text/plain": [
       "'Artificial intelligence (AI)'"
      ]
     },
     "execution_count": 171,
     "metadata": {},
     "output_type": "execute_result"
    }
   ],
   "source": [
    "tokenizer.decode(output['sequences'][0])"
   ]
  },
  {
   "cell_type": "code",
   "execution_count": 44,
   "metadata": {},
   "outputs": [
    {
     "name": "stdout",
     "output_type": "stream",
     "text": [
      "|the| -> 1169\n",
      "| cat| -> 3797\n",
      "| sat| -> 3332\n",
      "| on| -> 319\n",
      "| the| -> 262\n"
     ]
    }
   ],
   "source": []
  },
  {
   "cell_type": "code",
   "execution_count": 46,
   "metadata": {},
   "outputs": [
    {
     "data": {
      "text/plain": [
       "{'input_ids': tensor([[1169, 3797, 3332,  319,  262]], device='mps:0'), 'attention_mask': tensor([[1, 1, 1, 1, 1]], device='mps:0')}"
      ]
     },
     "execution_count": 46,
     "metadata": {},
     "output_type": "execute_result"
    }
   ],
   "source": [
    "input = tokenizer(prompt, return_tensors=\"pt\").to(device)\n",
    "input"
   ]
  },
  {
   "cell_type": "code",
   "execution_count": 52,
   "metadata": {},
   "outputs": [
    {
     "name": "stderr",
     "output_type": "stream",
     "text": [
      "Setting `pad_token_id` to `eos_token_id`:50256 for open-end generation.\n"
     ]
    }
   ],
   "source": [
    "output = model.generate(input_ids=input['input_ids'], attention_mask=input['attention_mask'], max_new_tokens=1)"
   ]
  },
  {
   "cell_type": "code",
   "execution_count": 53,
   "metadata": {},
   "outputs": [
    {
     "data": {
      "text/plain": [
       "tensor([[1169, 3797, 3332,  319,  262, 4314]], device='mps:0')"
      ]
     },
     "execution_count": 53,
     "metadata": {},
     "output_type": "execute_result"
    }
   ],
   "source": [
    "output"
   ]
  },
  {
   "cell_type": "code",
   "execution_count": 54,
   "metadata": {},
   "outputs": [
    {
     "name": "stdout",
     "output_type": "stream",
     "text": [
      "1169 -> |the|\n",
      "3797 -> | cat|\n",
      "3332 -> | sat|\n",
      "319 -> | on|\n",
      "262 -> | the|\n",
      "4314 -> | floor|\n"
     ]
    }
   ],
   "source": [
    "for token in model_output[0]:\n",
    "    print(f'{token} -> |{tokenizer.decode(token)}|')"
   ]
  },
  {
   "cell_type": "code",
   "execution_count": 47,
   "metadata": {},
   "outputs": [
    {
     "data": {
      "text/plain": [
       "GenerationConfig {\n",
       "  \"bos_token_id\": 50256,\n",
       "  \"eos_token_id\": 50256\n",
       "}"
      ]
     },
     "execution_count": 47,
     "metadata": {},
     "output_type": "execute_result"
    }
   ],
   "source": [
    "model.generation_config"
   ]
  },
  {
   "cell_type": "code",
   "execution_count": 52,
   "metadata": {},
   "outputs": [
    {
     "name": "stderr",
     "output_type": "stream",
     "text": [
      "Setting `pad_token_id` to `eos_token_id`:50256 for open-end generation.\n"
     ]
    }
   ],
   "source": [
    "model_output = model.generate(**model_input, output_scores=True,return_dict_in_generate=True, max_new_tokens=1)"
   ]
  },
  {
   "cell_type": "code",
   "execution_count": 44,
   "metadata": {},
   "outputs": [
    {
     "ename": "NameError",
     "evalue": "name 'model_output' is not defined",
     "output_type": "error",
     "traceback": [
      "\u001b[0;31m---------------------------------------------------------------------------\u001b[0m",
      "\u001b[0;31mNameError\u001b[0m                                 Traceback (most recent call last)",
      "Cell \u001b[0;32mIn[44], line 1\u001b[0m\n\u001b[0;32m----> 1\u001b[0m \u001b[43mmodel_output\u001b[49m[\u001b[38;5;124m'\u001b[39m\u001b[38;5;124mscores\u001b[39m\u001b[38;5;124m'\u001b[39m][\u001b[38;5;241m0\u001b[39m]\n",
      "\u001b[0;31mNameError\u001b[0m: name 'model_output' is not defined"
     ]
    }
   ],
   "source": [
    "model_output['scores'][0]"
   ]
  },
  {
   "cell_type": "code",
   "execution_count": 135,
   "metadata": {},
   "outputs": [
    {
     "ename": "NameError",
     "evalue": "name 'model_output' is not defined",
     "output_type": "error",
     "traceback": [
      "\u001b[0;31m---------------------------------------------------------------------------\u001b[0m",
      "\u001b[0;31mNameError\u001b[0m                                 Traceback (most recent call last)",
      "Cell \u001b[0;32mIn[135], line 2\u001b[0m\n\u001b[1;32m      1\u001b[0m \u001b[38;5;66;03m#probs = torch.nn.functional.softmax(model_output['scores'][0][0],dim=0).cpu().detach().numpy()\u001b[39;00m\n\u001b[0;32m----> 2\u001b[0m probs \u001b[38;5;241m=\u001b[39m torch\u001b[38;5;241m.\u001b[39mnn\u001b[38;5;241m.\u001b[39mfunctional\u001b[38;5;241m.\u001b[39msoftmax(\u001b[43mmodel_output\u001b[49m[\u001b[38;5;124m'\u001b[39m\u001b[38;5;124mscores\u001b[39m\u001b[38;5;124m'\u001b[39m][\u001b[38;5;241m0\u001b[39m][\u001b[38;5;241m0\u001b[39m],dim\u001b[38;5;241m=\u001b[39m\u001b[38;5;241m0\u001b[39m)\u001b[38;5;241m.\u001b[39mcpu()\u001b[38;5;241m.\u001b[39mnumpy()\n",
      "\u001b[0;31mNameError\u001b[0m: name 'model_output' is not defined"
     ]
    }
   ],
   "source": [
    "#probs = torch.nn.functional.softmax(model_output['scores'][0][0],dim=0).cpu().detach().numpy()\n",
    "probs = torch.nn.functional.softmax(model_output['scores'][0][0],dim=0).cpu().numpy()"
   ]
  },
  {
   "cell_type": "code",
   "execution_count": 68,
   "metadata": {},
   "outputs": [
    {
     "data": {
      "text/plain": [
       "[<matplotlib.lines.Line2D at 0x2aaf327c0>]"
      ]
     },
     "execution_count": 68,
     "metadata": {},
     "output_type": "execute_result"
    },
    {
     "data": {
      "image/png": "[encoded data removed]",
      "text/plain": [
       "<Figure size 640x480 with 1 Axes>"
      ]
     },
     "metadata": {},
     "output_type": "display_data"
    }
   ],
   "source": [
    "plt.plot(sorted(probs),'.')"
   ]
  },
  {
   "cell_type": "code",
   "execution_count": 86,
   "metadata": {},
   "outputs": [
    {
     "name": "stdout",
     "output_type": "stream",
     "text": [
      "token 534 : | your| p=0.2561\n",
      "token 262 : | the| p=0.0972\n",
      "token 257 : | a| p=0.0461\n",
      "token 428 : | this| p=0.0454\n",
      "token 326 : | that| p=0.0316\n"
     ]
    }
   ],
   "source": [
    "for token in torch.topk(model_output['scores'][0], k=5).indices[0]:\n",
    "    print(f'token {token} : |{tokenizer.decode(token)}| p={probs[token]:.4f}')\n"
   ]
  },
  {
   "cell_type": "code",
   "execution_count": 33,
   "metadata": {},
   "outputs": [],
   "source": [
    "prompt = 'the cat sat on the'"
   ]
  },
  {
   "cell_type": "code",
   "execution_count": 34,
   "metadata": {},
   "outputs": [
    {
     "data": {
      "text/plain": [
       "{'input_ids': [1169, 3797, 3332, 319, 262], 'attention_mask': [1, 1, 1, 1, 1]}"
      ]
     },
     "execution_count": 34,
     "metadata": {},
     "output_type": "execute_result"
    }
   ],
   "source": [
    "tokenizer(prompt)"
   ]
  },
  {
   "cell_type": "code",
   "execution_count": 39,
   "metadata": {},
   "outputs": [],
   "source": [
    "input_ids=tokenizer(prompt, return_tensors=\"pt\").to(device)['input_ids']"
   ]
  },
  {
   "cell_type": "code",
   "execution_count": 41,
   "metadata": {},
   "outputs": [
    {
     "name": "stderr",
     "output_type": "stream",
     "text": [
      "The attention mask and the pad token id were not set. As a consequence, you may observe unexpected behavior. Please pass your input's `attention_mask` to obtain reliable results.\n",
      "Setting `pad_token_id` to `eos_token_id`:50256 for open-end generation.\n"
     ]
    },
    {
     "data": {
      "text/plain": [
       "tensor([[1169, 3797, 3332,  319,  262, 4314]], device='mps:0')"
      ]
     },
     "execution_count": 41,
     "metadata": {},
     "output_type": "execute_result"
    }
   ],
   "source": [
    "model.generate(input_ids=input_ids,attention_mask=max_new_tokens=1)"
   ]
  },
  {
   "cell_type": "code",
   "execution_count": 5,
   "metadata": {},
   "outputs": [
    {
     "data": {
      "text/plain": [
       "GPT2LMHeadModel(\n",
       "  (transformer): GPT2Model(\n",
       "    (wte): Embedding(50257, 768)\n",
       "    (wpe): Embedding(1024, 768)\n",
       "    (drop): Dropout(p=0.1, inplace=False)\n",
       "    (h): ModuleList(\n",
       "      (0-11): 12 x GPT2Block(\n",
       "        (ln_1): LayerNorm((768,), eps=1e-05, elementwise_affine=True)\n",
       "        (attn): GPT2Attention(\n",
       "          (c_attn): Conv1D()\n",
       "          (c_proj): Conv1D()\n",
       "          (attn_dropout): Dropout(p=0.1, inplace=False)\n",
       "          (resid_dropout): Dropout(p=0.1, inplace=False)\n",
       "        )\n",
       "        (ln_2): LayerNorm((768,), eps=1e-05, elementwise_affine=True)\n",
       "        (mlp): GPT2MLP(\n",
       "          (c_fc): Conv1D()\n",
       "          (c_proj): Conv1D()\n",
       "          (act): NewGELUActivation()\n",
       "          (dropout): Dropout(p=0.1, inplace=False)\n",
       "        )\n",
       "      )\n",
       "    )\n",
       "    (ln_f): LayerNorm((768,), eps=1e-05, elementwise_affine=True)\n",
       "  )\n",
       "  (lm_head): Linear(in_features=768, out_features=50257, bias=False)\n",
       ")"
      ]
     },
     "execution_count": 5,
     "metadata": {},
     "output_type": "execute_result"
    }
   ],
   "source": [
    "gpt2"
   ]
  },
  {
   "cell_type": "code",
   "execution_count": 6,
   "metadata": {},
   "outputs": [
    {
     "data": {
      "text/plain": [
       "124439808"
      ]
     },
     "execution_count": 6,
     "metadata": {},
     "output_type": "execute_result"
    }
   ],
   "source": [
    "sum(p.numel() for p in gpt2.parameters())\n",
    "\n",
    "\n"
   ]
  },
  {
   "cell_type": "code",
   "execution_count": 7,
   "metadata": {},
   "outputs": [
    {
     "data": {
      "text/plain": [
       "1078.478336"
      ]
     },
     "execution_count": 7,
     "metadata": {},
     "output_type": "execute_result"
    }
   ],
   "source": [
    "\n",
    "124439808 * 13000 / 1500000000"
   ]
  },
  {
   "cell_type": "code",
   "execution_count": 29,
   "metadata": {},
   "outputs": [],
   "source": [
    "prompt = \"compared to men, women are more likely to\"\n",
    "input = tokenizer(prompt, return_tensors=\"pt\").to(device)"
   ]
  },
  {
   "cell_type": "code",
   "execution_count": 94,
   "metadata": {},
   "outputs": [
    {
     "data": {
      "text/plain": [
       "'compared to men, women are more likely to have problems eating or drinking alcohol. A study of 977 male college students'"
      ]
     },
     "execution_count": 94,
     "metadata": {},
     "output_type": "execute_result"
    }
   ],
   "source": [
    "output = gpt2.generate(input_ids=input['input_ids'], attention_mask=input['attention_mask'], max_new_tokens=15, do_sample=True, top_k=50)\n",
    "tokenizer.decode(output[0])"
   ]
  },
  {
   "cell_type": "code",
   "execution_count": 16,
   "metadata": {},
   "outputs": [
    {
     "data": {
      "text/plain": [
       "'compared to men, women are generally more aggressive.'"
      ]
     },
     "execution_count": 16,
     "metadata": {},
     "output_type": "execute_result"
    }
   ],
   "source": [
    "'compared to men, women are more likely to have low birth weight.'\n",
    "'compared to men, women are more likely to be diagnosed with depression and to feel anxious or upset at times.'\n",
    "'compared to men, women are more likely to be underrepresented in science, technology, and academia'\n",
    "'compared to men, women are more likely to have experienced sexual violence'\n",
    "'compared to men, women are more likely to have mental or emotional impairments'\n",
    "'compared to men, women are more likely to go back to the kitchen after a day of work'\n",
    "'compared to men, women are more likely to believe they are physically attractive'\n",
    "'compared to men, women are more likely to have sex when working'\n",
    "'compared to men, women are more likely to go on active leisure activities'\n",
    "'compared to men, women are more likely to be overweight'\n",
    "'compared to men, women are more likely to show symptoms and develop mood swings'\n",
    "'compared to men, women are more likely to commit homicides and robberies'\n",
    "'compared to men, women are more likely to have problems eating or drinking alcohol'"
   ]
  },
  {
   "cell_type": "code",
   "execution_count": 5,
   "metadata": {},
   "outputs": [
    {
     "data": {
      "text/plain": [
       "'/Users/jmague/Documents/IXXI/2024/LLM/formation LLM/supports/formation_LLM_IXXI'"
      ]
     },
     "execution_count": 5,
     "metadata": {},
     "output_type": "execute_result"
    }
   ],
   "source": [
    "pwd"
   ]
  },
  {
   "cell_type": "code",
   "execution_count": null,
   "metadata": {},
   "outputs": [],
   "source": []
  }
 ],
 "metadata": {
  "kernelspec": {
   "display_name": "llm",
   "language": "python",
   "name": "python3"
  },
  "language_info": {
   "codemirror_mode": {
    "name": "ipython",
    "version": 3
   },
   "file_extension": ".py",
   "mimetype": "text/x-python",
   "name": "python",
   "nbconvert_exporter": "python",
   "pygments_lexer": "ipython3",
   "version": "3.12.3"
  }
 },
 "nbformat": 4,
 "nbformat_minor": 2
}
