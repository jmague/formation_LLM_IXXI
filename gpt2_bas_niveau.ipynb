{
 "cells": [
  {
   "cell_type": "markdown",
   "metadata": {},
   "source": [
    "[comment]: <> \"LTeX: language=fr\"\n",
    "# <center>Dissection d'un transformer : vision de bas niveau</center>\n",
    "## <center>Jean-Philippe Magué, IXXI</center>\n",
    "### <center>21 juin 2024</center>\n",
    "\n",
    "\n",
    "Ce second notebook fait suite au précédent et plonge dans les détails de \"bas niveau\" de l'architecture du modèle [GPT2](https://huggingface.co/docs/transformers/en/model_doc/gpt2).\n",
    "# Initialisation"
   ]
  },
  {
   "cell_type": "code",
   "execution_count": 1,
   "metadata": {},
   "outputs": [],
   "source": [
    "from transformers import GPT2TokenizerFast, GPT2LMHeadModel\n",
    "import torch\n",
    "import matplotlib.pyplot as plt\n",
    "from sklearn.decomposition import PCA"
   ]
  },
  {
   "cell_type": "code",
   "execution_count": 2,
   "metadata": {},
   "outputs": [
    {
     "data": {
      "text/plain": [
       "<torch.autograd.grad_mode.set_grad_enabled at 0x160ced1d0>"
      ]
     },
     "execution_count": 2,
     "metadata": {},
     "output_type": "execute_result"
    }
   ],
   "source": [
    "torch.set_grad_enabled(False) #no training today!"
   ]
  },
  {
   "cell_type": "code",
   "execution_count": 3,
   "metadata": {},
   "outputs": [],
   "source": [
    "model_name = 'openai-community/gpt2'"
   ]
  },
  {
   "cell_type": "code",
   "execution_count": 4,
   "metadata": {},
   "outputs": [],
   "source": [
    "tokenizer = GPT2TokenizerFast.from_pretrained(model_name)\n",
    "gpt2 = GPT2LMHeadModel.from_pretrained(model_name,device_map=\"auto\",pad_token_id=tokenizer.eos_token_id)\n",
    "device = gpt2.device"
   ]
  },
  {
   "cell_type": "code",
   "execution_count": 5,
   "metadata": {},
   "outputs": [
    {
     "name": "stdout",
     "output_type": "stream",
     "text": [
      "GPT2 est un modèle avec 12 couches et un context de 1024 positions.\n"
     ]
    }
   ],
   "source": [
    "print(f'GPT2 est un modèle avec {gpt2.config.n_layer} couches et un context de {gpt2.config.n_positions} positions.')"
   ]
  },
  {
   "cell_type": "markdown",
   "metadata": {},
   "source": [
    "# Embeddings\n",
    "## Token embeddings"
   ]
  },
  {
   "cell_type": "code",
   "execution_count": 18,
   "metadata": {},
   "outputs": [
    {
     "name": "stdout",
     "output_type": "stream",
     "text": [
      "La dimension du modèle est de 768 dimensions.\n"
     ]
    }
   ],
   "source": [
    "print(f'La dimension du modèle est de {gpt2.config.n_embd} dimensions.')"
   ]
  },
  {
   "cell_type": "code",
   "execution_count": 28,
   "metadata": {},
   "outputs": [
    {
     "name": "stdout",
     "output_type": "stream",
     "text": [
      "|token|  -> id\n",
      "\n",
      "| duck|  -> 22045\n",
      "| goose| -> 37246\n",
      "| tiger| -> 26241\n",
      "| lion|  -> 18744\n",
      "| bear|  -> 6842\n",
      "| train| -> 4512\n",
      "| truck| -> 7779\n",
      "| plane| -> 6614\n",
      "| car|   -> 1097\n",
      "| boat|  -> 8848\n",
      "| ship|  -> 4074\n"
     ]
    }
   ],
   "source": [
    "prompt = \" duck goose tiger lion bear train truck plane car boat ship\"\n",
    "input = tokenizer(prompt, return_tensors=\"pt\").to(device)\n",
    "print(f'{\"|token|\":8} -> id\\n')\n",
    "for token in input['input_ids'][0]:\n",
    "    print(f'{\"|\"+tokenizer.decode(token)+\"|\":8} -> {token}')"
   ]
  },
  {
   "cell_type": "code",
   "execution_count": 29,
   "metadata": {},
   "outputs": [],
   "source": [
    "all_embeddings = gpt2.transformer.wte.weight.cpu().numpy()"
   ]
  },
  {
   "cell_type": "code",
   "execution_count": 30,
   "metadata": {},
   "outputs": [
    {
     "data": {
      "text/plain": [
       "(11, 768)"
      ]
     },
     "execution_count": 30,
     "metadata": {},
     "output_type": "execute_result"
    }
   ],
   "source": [
    "embeddings=all_embeddings[input['input_ids'][0].cpu().numpy()]\n",
    "embeddings.shape"
   ]
  },
  {
   "cell_type": "code",
   "execution_count": 31,
   "metadata": {},
   "outputs": [],
   "source": [
    "pca = PCA(n_components=2)\n",
    "coordinates = pca.fit_transform(embeddings)"
   ]
  },
  {
   "cell_type": "code",
   "execution_count": 37,
   "metadata": {},
   "outputs": [
    {
     "data": {
      "text/plain": [
       "(-2.5, 2.5)"
      ]
     },
     "execution_count": 37,
     "metadata": {},
     "output_type": "execute_result"
    },
    {
     "data": {
      "image/png": "[encoded data removed]",
      "text/plain": [
       "<Figure size 640x480 with 1 Axes>"
      ]
     },
     "metadata": {},
     "output_type": "display_data"
    }
   ],
   "source": [
    "tokens = prompt.split(' ')[1:]\n",
    "for i in range(len(tokens)):\n",
    "    plt.text(coordinates[i,0],coordinates[i,1],tokens[i])\n",
    "plt.xlim((-2.5,2.5))    \n",
    "plt.ylim((-2.5,2.5))"
   ]
  },
  {
   "cell_type": "code",
   "execution_count": 39,
   "metadata": {},
   "outputs": [
    {
     "name": "stdout",
     "output_type": "stream",
     "text": [
      "|token|  -> id\n",
      "\n",
      "| France| -> 4881\n",
      "| Paris| -> 6342\n",
      "| Germany| -> 4486\n",
      "| Berlin| -> 11307\n",
      "| Italy| -> 8031\n",
      "| Rome|  -> 10598\n",
      "| Spain| -> 8602\n",
      "| Madrid| -> 14708\n",
      "| Belgium| -> 15664\n",
      "| Brussels| -> 16445\n"
     ]
    }
   ],
   "source": [
    "prompt = \" France Paris Germany Berlin Italy Rome Spain Madrid Belgium Brussels\"\n",
    "input = tokenizer(prompt, return_tensors=\"pt\").to(device)\n",
    "print(f'{\"|token|\":8} -> id\\n')\n",
    "for token in input['input_ids'][0]:\n",
    "    print(f'{\"|\"+tokenizer.decode(token)+\"|\":8} -> {token}')"
   ]
  },
  {
   "cell_type": "code",
   "execution_count": 40,
   "metadata": {},
   "outputs": [
    {
     "data": {
      "text/plain": [
       "(10, 768)"
      ]
     },
     "execution_count": 40,
     "metadata": {},
     "output_type": "execute_result"
    }
   ],
   "source": [
    "embeddings=all_embeddings[input['input_ids'][0].cpu().numpy()]\n",
    "embeddings.shape"
   ]
  },
  {
   "cell_type": "code",
   "execution_count": 41,
   "metadata": {},
   "outputs": [],
   "source": [
    "pca = PCA(n_components=2)\n",
    "coordinates = pca.fit_transform(embeddings)"
   ]
  },
  {
   "cell_type": "code",
   "execution_count": 47,
   "metadata": {},
   "outputs": [
    {
     "data": {
      "text/plain": [
       "(-2.0, 2.0)"
      ]
     },
     "execution_count": 47,
     "metadata": {},
     "output_type": "execute_result"
    },
    {
     "data": {
      "image/png": "[encoded data removed]",
      "text/plain": [
       "<Figure size 640x480 with 1 Axes>"
      ]
     },
     "metadata": {},
     "output_type": "display_data"
    }
   ],
   "source": [
    "places = prompt.split(' ')[1:]\n",
    "countries = [2*i for i in range(len(places)//2)]\n",
    "cities = [2*i+1 for i in range(len(places)//2)]\n",
    "for i in range(len(countries)):\n",
    "    plt.arrow(coordinates[countries[i],0],coordinates[countries[i],1],coordinates[cities[i],0]-coordinates[countries[i],0],coordinates[cities[i],1]-coordinates[countries[i],1],color='black',head_width=0.05,length_includes_head=True)\n",
    "\n",
    "for i,country in enumerate(countries):\n",
    "    plt.text(coordinates[country,0],coordinates[country,1],places[country])\n",
    "for i,city in enumerate(cities):\n",
    "    plt.text(coordinates[city,0],coordinates[city,1],places[city], horizontalalignment='right')\n",
    "plt.xlim((-2,2))"
   ]
  },
  {
   "cell_type": "markdown",
   "metadata": {},
   "source": [
    "## Positional encoding"
   ]
  },
  {
   "cell_type": "code",
   "execution_count": 126,
   "metadata": {},
   "outputs": [
    {
     "name": "stdout",
     "output_type": "stream",
     "text": [
      "|token|  -> id\n",
      "\n",
      "| test|  -> 1332\n",
      "| test|  -> 1332\n",
      "| test|  -> 1332\n",
      "| test|  -> 1332\n",
      "| test|  -> 1332\n",
      "| test|  -> 1332\n",
      "| test|  -> 1332\n",
      "| test|  -> 1332\n",
      "| test|  -> 1332\n",
      "| test|  -> 1332\n",
      "| test|  -> 1332\n",
      "| test|  -> 1332\n",
      "| test|  -> 1332\n",
      "| test|  -> 1332\n",
      "| test|  -> 1332\n",
      "| test|  -> 1332\n",
      "| test|  -> 1332\n",
      "| test|  -> 1332\n",
      "| test|  -> 1332\n",
      "| test|  -> 1332\n",
      "| test|  -> 1332\n",
      "| test|  -> 1332\n",
      "| test|  -> 1332\n",
      "| test|  -> 1332\n",
      "| test|  -> 1332\n",
      "| test|  -> 1332\n",
      "| test|  -> 1332\n",
      "| test|  -> 1332\n",
      "| test|  -> 1332\n",
      "| test|  -> 1332\n",
      "| test|  -> 1332\n",
      "| test|  -> 1332\n",
      "| test|  -> 1332\n",
      "| test|  -> 1332\n",
      "| test|  -> 1332\n",
      "| test|  -> 1332\n",
      "| test|  -> 1332\n",
      "| test|  -> 1332\n",
      "| test|  -> 1332\n",
      "| test|  -> 1332\n",
      "| test|  -> 1332\n",
      "| test|  -> 1332\n",
      "| test|  -> 1332\n",
      "| test|  -> 1332\n",
      "| test|  -> 1332\n",
      "| test|  -> 1332\n",
      "| test|  -> 1332\n",
      "| test|  -> 1332\n",
      "| test|  -> 1332\n",
      "| test|  -> 1332\n"
     ]
    }
   ],
   "source": [
    "n=50\n",
    "prompt = \" test\" * n # prompt = \" test test test .....\"\n",
    "input = tokenizer(prompt, return_tensors=\"pt\").to(device)\n",
    "print(f'{\"|token|\":8} -> id\\n')\n",
    "for token in input['input_ids'][0]:\n",
    "    print(f'{\"|\"+tokenizer.decode(token)+\"|\":8} -> {token}')"
   ]
  },
  {
   "cell_type": "code",
   "execution_count": 127,
   "metadata": {},
   "outputs": [],
   "source": [
    "output = gpt2.generate(input_ids=input['input_ids'], attention_mask=input['attention_mask'], max_new_tokens=1,\n",
    "                       return_dict_in_generate=True, output_hidden_states=True)"
   ]
  },
  {
   "cell_type": "code",
   "execution_count": 128,
   "metadata": {},
   "outputs": [
    {
     "data": {
      "text/plain": [
       "13"
      ]
     },
     "execution_count": 128,
     "metadata": {},
     "output_type": "execute_result"
    }
   ],
   "source": [
    "len(output['hidden_states'][0])"
   ]
  },
  {
   "cell_type": "code",
   "execution_count": 129,
   "metadata": {},
   "outputs": [
    {
     "data": {
      "text/plain": [
       "(50, 768)"
      ]
     },
     "execution_count": 129,
     "metadata": {},
     "output_type": "execute_result"
    }
   ],
   "source": [
    "pos_enc = output['hidden_states'][0][0][0].cpu().numpy()\n",
    "pos_enc.shape"
   ]
  },
  {
   "cell_type": "code",
   "execution_count": 130,
   "metadata": {},
   "outputs": [
    {
     "data": {
      "text/plain": [
       "(50, 2)"
      ]
     },
     "execution_count": 130,
     "metadata": {},
     "output_type": "execute_result"
    }
   ],
   "source": [
    "pca = PCA(n_components=2)\n",
    "coordinates = pca.fit_transform(pos_enc)\n",
    "coordinates.shape"
   ]
  },
  {
   "cell_type": "code",
   "execution_count": 131,
   "metadata": {},
   "outputs": [
    {
     "data": {
      "image/png": "[encoded data removed]",
      "text/plain": [
       "<Figure size 640x480 with 1 Axes>"
      ]
     },
     "metadata": {},
     "output_type": "display_data"
    }
   ],
   "source": [
    "plt.scatter(coordinates[:,0],coordinates[:,1],s=.1)\n",
    "for i in range(len(coordinates)):\n",
    "    plt.text(coordinates[i,0],coordinates[i,1],str(i),fontsize=6)"
   ]
  },
  {
   "cell_type": "code",
   "execution_count": 139,
   "metadata": {},
   "outputs": [
    {
     "data": {
      "text/plain": [
       "GPT2MLP(\n",
       "  (c_fc): Conv1D()\n",
       "  (c_proj): Conv1D()\n",
       "  (act): NewGELUActivation()\n",
       "  (dropout): Dropout(p=0.1, inplace=False)\n",
       ")"
      ]
     },
     "execution_count": 139,
     "metadata": {},
     "output_type": "execute_result"
    }
   ],
   "source": [
    "gpt2.transformer.h[0].mlp"
   ]
  },
  {
   "cell_type": "code",
   "execution_count": 141,
   "metadata": {},
   "outputs": [
    {
     "data": {
      "text/plain": [
       "(768, 3072)"
      ]
     },
     "execution_count": 141,
     "metadata": {},
     "output_type": "execute_result"
    }
   ],
   "source": [
    "gpt2.transformer.h[0].mlp.c_fc.weight.cpu().numpy().shape"
   ]
  },
  {
   "cell_type": "code",
   "execution_count": 142,
   "metadata": {},
   "outputs": [
    {
     "data": {
      "text/plain": [
       "(3072, 768)"
      ]
     },
     "execution_count": 142,
     "metadata": {},
     "output_type": "execute_result"
    }
   ],
   "source": [
    "gpt2.transformer.h[0].mlp.c_proj.weight.cpu().numpy().shape"
   ]
  }
 ],
 "metadata": {
  "kernelspec": {
   "display_name": "formation_LLM",
   "language": "python",
   "name": "python3"
  },
  "language_info": {
   "codemirror_mode": {
    "name": "ipython",
    "version": 3
   },
   "file_extension": ".py",
   "mimetype": "text/x-python",
   "name": "python",
   "nbconvert_exporter": "python",
   "pygments_lexer": "ipython3",
   "version": "3.1.undefined"
  }
 },
 "nbformat": 4,
 "nbformat_minor": 2
}
